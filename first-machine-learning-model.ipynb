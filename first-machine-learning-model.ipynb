# Machine-Learning-Tugas-1
#Tugas 1 Nadhifi Qurrunul B F H_1103204156_TK44G4


add Codeadd Markdown
#impor pustaka
import pandas as pd
​
melbourne_file_path = '../input/melbourne-housing-snapshot/melb_data.csv'
melbourne_data = pd.read_csv(melbourne_file_path) 
melbourne_data.columns
Index(['Suburb', 'Address', 'Rooms', 'Type', 'Price', 'Method', 'SellerG',
       'Date', 'Distance', 'Postcode', 'Bedroom2', 'Bathroom', 'Car',
       'Landsize', 'BuildingArea', 'YearBuilt', 'CouncilArea', 'Lattitude',
       'Longtitude', 'Regionname', 'Propertycount'],
      dtype='object')
add Codeadd Markdown
melbourne_data = melbourne_data.dropna(axis=0)
add Codeadd Markdown
Exercises
Step 1: Specify Prediction Target
Select the target variable, which corresponds to the sales price. Save this to a new variable called y. You'll need to print a list of the columns to find the name of the column you need.

add Codeadd Markdown
melbourne_data = melbourne_data.dropna(axis=0)
#cetak daftar kolom dalam dataset untuk mencari nama target prediksi
melbourne_data = melbourne_data.dropna(axis=0)
add Codeadd Markdown
y = melbourne_data.Price
add Codeadd Markdown
melbourne_features = ['Rooms', 'Bathroom', 'Landsize', 'Lattitude', 'Longtitude']
add Codeadd Markdown
melbourne_features = ['Rooms', 'Bathroom', 'Landsize', 'Lattitude', 'Longtitude']
melbourne_features = ['Rooms', 'Bathroom', 'Landsize', 'Lattitude', 'Longtitude']
add Codeadd Markdown
X = melbourne_data[melbourne_features]
add Codeadd Markdown
X.describe()
Rooms	Bathroom	Landsize	Lattitude	Longtitude
count	6196.000000	6196.000000	6196.000000	6196.000000	6196.000000
mean	2.931407	1.576340	471.006940	-37.807904	144.990201
std	0.971079	0.711362	897.449881	0.075850	0.099165
min	1.000000	1.000000	0.000000	-38.164920	144.542370
25%	2.000000	1.000000	152.000000	-37.855438	144.926198
50%	3.000000	1.000000	373.000000	-37.802250	144.995800
75%	4.000000	2.000000	628.000000	-37.758200	145.052700
max	8.000000	8.000000	37000.000000	-37.457090	145.526350
add Codeadd Markdown
X.head()
Rooms	Bathroom	Landsize	Lattitude	Longtitude
1	2	1.0	156.0	-37.8079	144.9934
2	3	2.0	134.0	-37.8093	144.9944
4	4	1.0	120.0	-37.8072	144.9941
6	3	2.0	245.0	-37.8024	144.9993
7	2	1.0	256.0	-37.8060	144.9954
add Codeadd Markdown
​
from sklearn.tree import DecisionTreeRegressor
​
# Tentukan modelnya. Tentukan nomor untuk random_state untuk memastikan hasil yang sama setiap kali dijalankan
melbourne_model = DecisionTreeRegressor(random_state=1)
​
# Fit model
melbourne_model.fit(X, y)
​
​

DecisionTreeRegressor
DecisionTreeRegressor(random_state=1)
add Codeadd Markdown
