{
  "cells": [
    {
      "cell_type": "markdown",
      "source": [
        "Nama  : Nadhifi Qurrunul B F H\n",
        "\n",
        "Nim   : 1103204156"
      ],
      "metadata": {
        "id": "AUysrr4rNAs3"
      }
    },
    {
      "cell_type": "markdown",
      "metadata": {
        "id": "5v3iRCRUTGeu"
      },
      "source": [
        "## Importing PyTorch\n",
        "\n",
        "> **Note:**\n",
        "PyTorch adalah sebuah framework machine learning open-source yang dikembangkan oleh Facebook. Framework ini sangat populer di kalangan peneliti dan praktisi machine learning karena menyediakan alat yang kuat untuk pengembangan model deep learning. Berikut adalah beberapa konsep fundamental dalam PyTorch:\n",
        "\n",
        "1. **Tensor**: Tensor adalah struktur data dasar dalam PyTorch yang mirip dengan array atau matriks. Tensor dapat digunakan untuk merepresentasikan data numerik dalam berbagai dimensi.\n",
        "\n",
        "2. **Autograd**: Autograd (Automatic Differentiation) adalah fitur PyTorch yang memungkinkan otomatis perhitungan gradien. Dengan autograd, PyTorch dapat melacak operasi-operasi yang dilakukan pada tensor dan menghitung gradien terhadap parameter secara otomatis.\n",
        "\n",
        "3. **Module dan Model**: PyTorch menyediakan kelas Module untuk membangun arsitektur model. Model dapat dibangun dengan menurunkan kelas Module dan mendefinisikan metode forward untuk menggambarkan bagaimana data mengalir melalui model.\n",
        "\n",
        "4. **Optimizers**: Optimizer digunakan untuk mengoptimalkan parameter-model dengan menyesuaikannya berdasarkan gradien yang dihitung selama proses pelatihan. PyTorch menyediakan berbagai optimizers seperti SGD (Stochastic Gradient Descent), Adam, dan lainnya.\n",
        "\n",
        "5. **Loss Functions**: Fungsi kehilangan (loss function) digunakan untuk mengukur seberapa baik model bekerja pada tugas tertentu. PyTorch menyediakan berbagai fungsi kehilangan yang sesuai dengan berbagai jenis tugas, seperti klasifikasi dan regresi.\n",
        "\n",
        "6. **DataLoader**: DataLoader memfasilitasi pemuatan dan pemrosesan data dalam batch selama pelatihan model. Ini membantu dalam efisiensi dan manajemen data selama proses pelatihan.\n",
        "\n",
        "7. **CUDA dan GPU Acceleration**: PyTorch mendukung penggunaan GPU untuk percepatan komputasi. Ini memungkinkan pelatihan model dengan cepat menggunakan daya komputasi paralel GPU.\n",
        "\n",
        "8. **Dynamic Computational Graph**: PyTorch menggunakan grafik komputasi dinamis, yang berarti grafik komputasi dapat diubah selama waktu eksekusi. Hal ini memberikan fleksibilitas yang lebih besar dalam membangun dan mengubah model.\n",
        "\n",
        "9. **Ecosystem dan TorchScript**: PyTorch memiliki ekosistem yang kaya dengan berbagai pustaka dan alat pendukung seperti torchvision, torchtext, dan TorchScript. TorchScript memungkinkan serialisasi model PyTorch untuk inferensi yang lebih cepat.\n"
      ]
    },
    {
      "cell_type": "code",
      "execution_count": null,
      "metadata": {
        "colab": {
          "base_uri": "https://localhost:8080/",
          "height": 35
        },
        "id": "1VxEOik46Y4i",
        "outputId": "277c610e-6695-4ad1-c13f-7c92c829411f"
      },
      "outputs": [
        {
          "output_type": "execute_result",
          "data": {
            "text/plain": [
              "'2.1.0+cu121'"
            ],
            "application/vnd.google.colaboratory.intrinsic+json": {
              "type": "string"
            }
          },
          "metadata": {},
          "execution_count": 1
        }
      ],
      "source": [
        "# Import library PyTorch\n",
        "import torch\n",
        "\n",
        "# Cetak versi PyTorch yang sedang digunakan\n",
        "torch.__version__"
      ]
    },
    {
      "cell_type": "markdown",
      "metadata": {
        "id": "i-33BKR16iWc"
      },
      "source": [
        "## Introduction to tensors\n",
        "\n",
        "Tensor adalah struktur data dasar dalam PyTorch, mirip dengan array atau matriks.\n",
        "\n",
        "Tensor dapat merepresentasikan data numerik dalam berbagai dimensi.\n"
      ]
    },
    {
      "cell_type": "markdown",
      "metadata": {
        "id": "gFF0N2TU7S7Q"
      },
      "source": [
        "### Creating tensors\n",
        "\n",
        "> **Note:**  Berikut adalah tren yang akan dilakukan. Pengerjaan akan fokus pada penulisan kode secara spesifik. Namun, melibatkan pembacaan dan pengenalan terhadap dokumentasi PyTorch.\n"
      ]
    },
    {
      "cell_type": "code",
      "execution_count": null,
      "metadata": {
        "colab": {
          "base_uri": "https://localhost:8080/"
        },
        "id": "YUDgG2zk7Us5",
        "outputId": "41002aa6-fb86-401f-e6d2-bbbb750e21bf"
      },
      "outputs": [
        {
          "output_type": "execute_result",
          "data": {
            "text/plain": [
              "tensor(7)"
            ]
          },
          "metadata": {},
          "execution_count": 2
        }
      ],
      "source": [
        "#  Membuat tensor skalar dengan nilai 7\n",
        "scalar = torch.tensor(7)\n",
        "scalar"
      ]
    },
    {
      "cell_type": "code",
      "execution_count": null,
      "metadata": {
        "colab": {
          "base_uri": "https://localhost:8080/"
        },
        "id": "lV98Yz868bav",
        "outputId": "0b458648-10c5-492e-8db5-ddcad0292178"
      },
      "outputs": [
        {
          "output_type": "execute_result",
          "data": {
            "text/plain": [
              "0"
            ]
          },
          "metadata": {},
          "execution_count": 3
        }
      ],
      "source": [
        "#  Memeriksa jumlah dimensi dari tensor skalar (seharusnya 0 untuk skalar)\n",
        "scalar.ndim"
      ]
    },
    {
      "cell_type": "code",
      "execution_count": null,
      "metadata": {
        "colab": {
          "base_uri": "https://localhost:8080/"
        },
        "id": "-k4cyKumPfbE",
        "outputId": "d5f70620-c391-4fdd-b944-e219a76deef0"
      },
      "outputs": [
        {
          "output_type": "execute_result",
          "data": {
            "text/plain": [
              "7"
            ]
          },
          "metadata": {},
          "execution_count": 4
        }
      ],
      "source": [
        "# Mengekstrak angka Python dari tensor skalar (hanya berfungsi untuk tensor satu elemen)\n",
        "scalar.item()"
      ]
    },
    {
      "cell_type": "code",
      "execution_count": null,
      "metadata": {
        "colab": {
          "base_uri": "https://localhost:8080/"
        },
        "id": "-IZF6ASs8QH9",
        "outputId": "603b0b36-7bec-4c0e-a058-cee9bdcb4b6b"
      },
      "outputs": [
        {
          "output_type": "execute_result",
          "data": {
            "text/plain": [
              "tensor([7, 7])"
            ]
          },
          "metadata": {},
          "execution_count": 5
        }
      ],
      "source": [
        "# Vector\n",
        "vector = torch.tensor([7, 7])\n",
        "vector"
      ]
    },
    {
      "cell_type": "code",
      "execution_count": null,
      "metadata": {
        "colab": {
          "base_uri": "https://localhost:8080/"
        },
        "id": "03hm3VVv8kr4",
        "outputId": "d9378ac8-e257-453e-b199-12c73d11cfb3"
      },
      "outputs": [
        {
          "output_type": "execute_result",
          "data": {
            "text/plain": [
              "tensor([7, 7])"
            ]
          },
          "metadata": {},
          "execution_count": 6
        }
      ],
      "source": [
        "#  Membuat tensor vektor dengan dua elemen (keduanya bernilai 7)\n",
        "vector = torch.tensor([7, 7])\n",
        "vector"
      ]
    },
    {
      "cell_type": "code",
      "execution_count": null,
      "metadata": {
        "colab": {
          "base_uri": "https://localhost:8080/"
        },
        "id": "6zREV1bDTGe2",
        "outputId": "4e3aab7e-569d-447b-aa04-37aba00da2d1"
      },
      "outputs": [
        {
          "output_type": "execute_result",
          "data": {
            "text/plain": [
              "torch.Size([2])"
            ]
          },
          "metadata": {},
          "execution_count": 7
        }
      ],
      "source": [
        "# Memeriksa bentuk dari tensor vektor (ukuran 2)\n",
        "vector.shape"
      ]
    },
    {
      "cell_type": "code",
      "execution_count": null,
      "metadata": {
        "colab": {
          "base_uri": "https://localhost:8080/"
        },
        "id": "D5iNwCYL8QO9",
        "outputId": "3dae27dc-4298-4cc7-a832-c5c5b15711eb"
      },
      "outputs": [
        {
          "output_type": "execute_result",
          "data": {
            "text/plain": [
              "tensor([[ 7,  8],\n",
              "        [ 9, 10]])"
            ]
          },
          "metadata": {},
          "execution_count": 8
        }
      ],
      "source": [
        "# Membuat tensor matriks (2x2) dengan nilai yang ditentukan\n",
        "MATRIX = torch.tensor([[7, 8],\n",
        "                       [9, 10]])\n",
        "MATRIX"
      ]
    },
    {
      "cell_type": "code",
      "execution_count": null,
      "metadata": {
        "colab": {
          "base_uri": "https://localhost:8080/"
        },
        "id": "8LREUbeb8r8j",
        "outputId": "62e1e4a3-45ba-4ee6-fae7-2f6ae4289eab"
      },
      "outputs": [
        {
          "output_type": "execute_result",
          "data": {
            "text/plain": [
              "2"
            ]
          },
          "metadata": {},
          "execution_count": 9
        }
      ],
      "source": [
        "# Memeriksa jumlah dimensi dari tensor matriks (seharusnya 2 untuk matriks)\n",
        "MATRIX.ndim"
      ]
    },
    {
      "cell_type": "code",
      "execution_count": null,
      "metadata": {
        "colab": {
          "base_uri": "https://localhost:8080/"
        },
        "id": "_TL26I31TGe3",
        "outputId": "6ae15910-a370-486b-8c7c-7fb84769939f"
      },
      "outputs": [
        {
          "output_type": "execute_result",
          "data": {
            "text/plain": [
              "torch.Size([2, 2])"
            ]
          },
          "metadata": {},
          "execution_count": 10
        }
      ],
      "source": [
        "#Memeriksa bentuk dari tensor matriks (ukuran 2x2)\n",
        "MATRIX.shape"
      ]
    },
    {
      "cell_type": "code",
      "execution_count": null,
      "metadata": {
        "colab": {
          "base_uri": "https://localhost:8080/"
        },
        "id": "wEMDQr188QWW",
        "outputId": "1e61015a-170d-4018-8678-20fe0fd2165e"
      },
      "outputs": [
        {
          "output_type": "execute_result",
          "data": {
            "text/plain": [
              "tensor([[[1, 2, 3],\n",
              "         [3, 6, 9],\n",
              "         [2, 4, 5]]])"
            ]
          },
          "metadata": {},
          "execution_count": 11
        }
      ],
      "source": [
        "# Membuat tensor 3D dengan nilai yang ditentukan\n",
        "TENSOR = torch.tensor([[[1, 2, 3],\n",
        "                        [3, 6, 9],\n",
        "                        [2, 4, 5]]])\n",
        "TENSOR"
      ]
    },
    {
      "cell_type": "code",
      "execution_count": null,
      "metadata": {
        "colab": {
          "base_uri": "https://localhost:8080/"
        },
        "id": "8dhuEsjS8QcT",
        "outputId": "0e2b95e2-f8df-474c-da3e-9d93a00d22ab"
      },
      "outputs": [
        {
          "output_type": "execute_result",
          "data": {
            "text/plain": [
              "3"
            ]
          },
          "metadata": {},
          "execution_count": 12
        }
      ],
      "source": [
        "# Memeriksa jumlah dimensi dari tensor 3D (seharusnya 3)\n",
        "TENSOR.ndim"
      ]
    },
    {
      "cell_type": "code",
      "execution_count": null,
      "metadata": {
        "colab": {
          "base_uri": "https://localhost:8080/"
        },
        "id": "hdVv4iNRTGe5",
        "outputId": "4c46cd80-ea7c-424d-a921-98453f904c8d"
      },
      "outputs": [
        {
          "output_type": "execute_result",
          "data": {
            "text/plain": [
              "torch.Size([1, 3, 3])"
            ]
          },
          "metadata": {},
          "execution_count": 13
        }
      ],
      "source": [
        "# Memeriksa bentuk dari tensor 3D (ukuran 1x3x3)\n",
        "TENSOR.shape"
      ]
    },
    {
      "cell_type": "markdown",
      "metadata": {
        "id": "dms7G4nkTGe5"
      },
      "source": [
        "### Random tensors\n",
        "Random tensors pada PyTorch fundamental adalah tensor yang nilainya ditentukan secara acak. Tensor ini dapat digunakan untuk berbagai keperluan, seperti:\n",
        "\n",
        "* Membuat data pelatihan untuk model pembelajaran mendalam.\n",
        "* Melakukan eksperimen dengan berbagai nilai parameter.\n",
        "* Menghasilkan hasil yang tidak dapat diprediksi.*\n",
        "\n",
        "PyTorch menyediakan berbagai fungsi untuk membuat random tensors. Salah satu fungsi yang paling umum digunakan adalah `torch.rand()`. Fungsi ini menghasilkan tensor dengan nilai acak yang mengikuti distribusi normal standar.\n",
        "\n",
        "Berikut adalah contoh penggunaan fungsi `torch.rand()`:\n",
        "\n",
        "```python\n",
        "import torch\n",
        "\n",
        "# Buat tensor acak dengan ukuran (3, 4, 5)\n",
        "tensor = torch.rand((3, 4, 5))\n",
        "\n",
        "# Cetak nilai tensor\n",
        "print(tensor)\n",
        "```\n",
        "\n",
        "Output:\n",
        "\n",
        "```\n",
        "tensor([[0.1591, 0.0346, 0.7895, 0.5376, 0.8294],\n",
        "        [0.3421, 0.5365, 0.9525, 0.9859, 0.6647],\n",
        "        [0.5362, 0.6493, 0.2348, 0.8428, 0.6198]])\n",
        "```\n",
        "\n",
        "Selain `torch.rand()`, PyTorch juga menyediakan fungsi lain untuk membuat random tensors, seperti:\n",
        "\n",
        "* `torch.randn()`: menghasilkan tensor dengan nilai acak yang mengikuti distribusi normal standar.\n",
        "* `torch.randint()`: menghasilkan tensor dengan nilai acak yang merupakan bilangan bulat.\n",
        "* `torch.randperm()`: menghasilkan tensor dengan urutan acak.\n",
        "\n",
        "Pengguna dapat memilih fungsi yang sesuai dengan kebutuhannya."
      ]
    },
    {
      "cell_type": "code",
      "execution_count": null,
      "metadata": {
        "colab": {
          "base_uri": "https://localhost:8080/"
        },
        "id": "EOJEtDx--GnK",
        "outputId": "532495b8-1ee7-488d-e965-51b70ffc513c"
      },
      "outputs": [
        {
          "output_type": "execute_result",
          "data": {
            "text/plain": [
              "(tensor([[0.7660, 0.3994, 0.4701, 0.5872],\n",
              "         [0.6840, 0.4797, 0.0100, 0.7600],\n",
              "         [0.9088, 0.1564, 0.3032, 0.3111]]),\n",
              " torch.float32)"
            ]
          },
          "metadata": {},
          "execution_count": 14
        }
      ],
      "source": [
        "# Membuat tensor acak dengan ukuran (3, 4)\n",
        "random_tensor = torch.rand(size=(3, 4))\n",
        "random_tensor, random_tensor.dtype"
      ]
    },
    {
      "cell_type": "markdown",
      "source": [
        "\n",
        "\n",
        "*   Pada , sebuah tensor acak dengan ukuran (3, 4) dibuat menggunakan torch.rand(size=(3, 4)).\n",
        "\n",
        "*   random_tensor dan tipe data tensor (random_tensor.dtype) dicetak untuk menampilkan hasilnya.\n",
        "\n"
      ],
      "metadata": {
        "id": "3XVOsGrxkRxO"
      }
    },
    {
      "cell_type": "code",
      "execution_count": null,
      "metadata": {
        "colab": {
          "base_uri": "https://localhost:8080/"
        },
        "id": "xMF_NUp3Ym__",
        "outputId": "3ef9a54d-0245-4c29-e1f4-8606f1d6bb12"
      },
      "outputs": [
        {
          "output_type": "execute_result",
          "data": {
            "text/plain": [
              "(torch.Size([224, 224, 3]), 3)"
            ]
          },
          "metadata": {},
          "execution_count": 15
        }
      ],
      "source": [
        "# Membuat tensor acak dengan ukuran (224, 224, 3)\n",
        "random_image_size_tensor = torch.rand(size=(224, 224, 3))\n",
        "random_image_size_tensor.shape, random_image_size_tensor.ndim"
      ]
    },
    {
      "cell_type": "markdown",
      "source": [
        "\n",
        "\n",
        "*   Pada , tensor acak dengan ukuran (224, 224, 3) dibuat.\n",
        "*   random_image_size_tensor.shape digunakan untuk mengetahui bentuk (shape) dari tensor, dan random_image_size_tensor.ndim digunakan untuk mengetahui jumlah dimensi dari tensor tersebut.\n",
        "\n"
      ],
      "metadata": {
        "id": "sMBUqwI4kX_P"
      }
    },
    {
      "cell_type": "markdown",
      "metadata": {
        "id": "0MQNTY0eTGe6"
      },
      "source": [
        "### Zeros and ones\n",
        "\n",
        "Dalam PyTorch, zeros dan ones adalah fungsi yang digunakan untuk membuat tensor dengan nilai nol atau satu. Fungsi zeros() membuat tensor dengan semua nilai nol, sedangkan fungsi ones() membuat tensor dengan semua nilai satu.\n",
        "\n",
        "Berikut adalah contoh penggunaan fungsi zeros():\n",
        "\n",
        "```python\n",
        "import torch\n",
        "\n",
        "# Membuat tensor dengan dimensi (3, 2)\n",
        "tensor = torch.zeros((3, 2))\n",
        "\n",
        "print(tensor)\n",
        "```\n",
        "\n",
        "Output:\n",
        "\n",
        "```\n",
        "tensor([[0., 0.],\n",
        "        [0., 0.],\n",
        "        [0., 0.]])\n",
        "```\n",
        "\n",
        "Berikut adalah contoh penggunaan fungsi ones():\n",
        "\n",
        "```python\n",
        "import torch\n",
        "\n",
        "# Membuat tensor dengan dimensi (3, 2)\n",
        "tensor = torch.ones((3, 2))\n",
        "\n",
        "print(tensor)\n",
        "```\n",
        "\n",
        "Output:\n",
        "\n",
        "```\n",
        "tensor([[1., 1.],\n",
        "        [1., 1.],\n",
        "        [1., 1.]])\n",
        "```\n",
        "\n",
        "Fungsi zeros() dan ones() dapat digunakan untuk berbagai keperluan, seperti:\n",
        "\n",
        "* Menginisialisasi nilai tensor\n",
        "* Membuat tensor untuk digunakan sebagai target dalam pelatihan model pembelajaran mesin\n",
        "* Membuat tensor untuk digunakan sebagai mask dalam operasi matematika\n",
        "\n",
        "Pada PyTorch fundamental, fungsi zeros() dan ones() merupakan fungsi yang penting untuk dipelajari. Fungsi ini dapat digunakan untuk berbagai keperluan dasar dalam pembelajaran mendalam."
      ]
    },
    {
      "cell_type": "code",
      "execution_count": null,
      "metadata": {
        "colab": {
          "base_uri": "https://localhost:8080/"
        },
        "id": "oCzhd0hl9Vp6",
        "outputId": "d73ac220-058f-412c-ffa5-19de455669a5"
      },
      "outputs": [
        {
          "output_type": "execute_result",
          "data": {
            "text/plain": [
              "(tensor([[0., 0., 0., 0.],\n",
              "         [0., 0., 0., 0.],\n",
              "         [0., 0., 0., 0.]]),\n",
              " torch.float32)"
            ]
          },
          "metadata": {},
          "execution_count": 16
        }
      ],
      "source": [
        "# Membuat tensor dengan nilai semua elemen nol dan ukuran (3, 4)\n",
        "zeros = torch.zeros(size=(3, 4))\n",
        "zeros, zeros.dtype"
      ]
    },
    {
      "cell_type": "markdown",
      "source": [
        "\n",
        "\n",
        "*   torch.zeros(size=(3, 4)) digunakan untuk membuat tensor dengan semua elemen bernilai nol dan ukuran (shape) (3, 4).\n",
        "\n",
        "*   Tensor hasil (zeros) dan tipe datanya (zeros.dtype) dicetak.\n",
        "\n",
        "\n"
      ],
      "metadata": {
        "id": "QA-gfJhOnHke"
      }
    },
    {
      "cell_type": "code",
      "execution_count": null,
      "metadata": {
        "colab": {
          "base_uri": "https://localhost:8080/"
        },
        "id": "HRe6sSXiTGe6",
        "outputId": "fd3fe0e8-5c26-46f3-82e3-4606636a935c"
      },
      "outputs": [
        {
          "output_type": "execute_result",
          "data": {
            "text/plain": [
              "(tensor([[1., 1., 1., 1.],\n",
              "         [1., 1., 1., 1.],\n",
              "         [1., 1., 1., 1.]]),\n",
              " torch.float32)"
            ]
          },
          "metadata": {},
          "execution_count": 17
        }
      ],
      "source": [
        "# Membuat tensor dengan nilai semua elemen satu dan ukuran (3, 4)\n",
        "ones = torch.ones(size=(3, 4))\n",
        "ones, ones.dtype"
      ]
    },
    {
      "cell_type": "markdown",
      "source": [
        "\n",
        "\n",
        "*   torch.ones(size=(3, 4)) digunakan untuk membuat tensor dengan semua elemen bernilai satu dan ukuran (shape) (3, 4).\n",
        "*   Tensor hasil (ones) dan tipe datanya (ones.dtype) dicetak.\n",
        "\n"
      ],
      "metadata": {
        "id": "tBpItGNknNwh"
      }
    },
    {
      "cell_type": "markdown",
      "metadata": {
        "id": "hib1NYrSarL2"
      },
      "source": [
        "### Creating a range and tensors like\n",
        "\n",
        " Untuk membuat tensor dengan rentang nilai tertentu atau berdasarkan pola tertentu, Anda dapat menggunakan fungsi PyTorch seperti `torch.arange`, `torch.linspace`, dan `torch.eye`. Berikut adalah contoh yang menunjukkan cara membuat tensor menggunakan fungsi-fungsi ini:\n",
        "\n",
        "**Penjelasan:**\n",
        "\n",
        "- **`torch.arange(start, end, step)`:** Membuat tensor 1D dengan nilai dari `start` ke `end-1` dengan langkah yang ditentukan.\n",
        "- **`torch.linspace(start, end, steps)`:** Membuat tensor 1D dengan `steps` nilai yang berjarak sama antara `start` dan `end`.\n",
        "- **`torch.eye(n)`:** Membuat matriks identitas berukuran `n x n` dengan elemen diagonal bernilai 1 dan sisanya 0.\n",
        "\n",
        "\n",
        "\n"
      ]
    },
    {
      "cell_type": "code",
      "execution_count": null,
      "metadata": {
        "colab": {
          "base_uri": "https://localhost:8080/"
        },
        "id": "1IqUs81d9W4W",
        "outputId": "93e39af5-d387-43db-d8fb-d72978021f34"
      },
      "outputs": [
        {
          "output_type": "stream",
          "name": "stderr",
          "text": [
            "<ipython-input-18-a49b364b1c92>:2: UserWarning: torch.range is deprecated and will be removed in a future release because its behavior is inconsistent with Python's range builtin. Instead, use torch.arange, which produces values in [start, end).\n",
            "  zero_to_ten_deprecated = torch.range(0, 10)  # Catatan: ini mungkin menghasilkan kesalahan di masa depan\n"
          ]
        },
        {
          "output_type": "execute_result",
          "data": {
            "text/plain": [
              "tensor([0, 1, 2, 3, 4, 5, 6, 7, 8, 9])"
            ]
          },
          "metadata": {},
          "execution_count": 18
        }
      ],
      "source": [
        "# Menggunakan torch.range(), yang sudah dinyatakan usang (deprecated)\n",
        "zero_to_ten_deprecated = torch.range(0, 10)  # Catatan: ini mungkin menghasilkan kesalahan di masa depan\n",
        "\n",
        "# Membuat rentang nilai dari 0 hingga 10 dengan langkah 1\n",
        "zero_to_ten = torch.arange(start=0, end=10, step=1)\n",
        "zero_to_ten"
      ]
    },
    {
      "cell_type": "markdown",
      "source": [
        "\n",
        "\n",
        "*   Menggunakan torch.range() untuk membuat tensor dengan nilai dari 0 hingga 10.\n",
        "\n",
        "*   Perlu dicatat bahwa torch.range() sudah usang (deprecated) dan mungkin menyebabkan kesalahan di masa depan.\n",
        "\n",
        "*   Menggunakan torch.arange() untuk membuat tensor dengan nilai dari 0 hingga 10 dengan langkah 1.\n",
        "\n",
        "\n"
      ],
      "metadata": {
        "id": "ivcsh1dRpS-p"
      }
    },
    {
      "cell_type": "code",
      "execution_count": null,
      "metadata": {
        "colab": {
          "base_uri": "https://localhost:8080/"
        },
        "id": "ZvXwUut5BhHq",
        "outputId": "96ac8ec0-a44d-4d48-ed72-2ba68347ecde"
      },
      "outputs": [
        {
          "output_type": "execute_result",
          "data": {
            "text/plain": [
              "tensor([0, 0, 0, 0, 0, 0, 0, 0, 0, 0])"
            ]
          },
          "metadata": {},
          "execution_count": 19
        }
      ],
      "source": [
        "# Dapat juga membuat tensor berisi nol dengan bentuk yang sama seperti tensor lain\n",
        "ten_zeros = torch.zeros_like(input=zero_to_ten)  # Akan memiliki bentuk yang sama\n",
        "ten_zeros"
      ]
    },
    {
      "cell_type": "markdown",
      "source": [
        "\n",
        "*   Menggunakan torch.zeros_like() untuk membuat tensor berisi nol dengan bentuk yang sama seperti zero_to_ten.\n"
      ],
      "metadata": {
        "id": "aSqc48cmpdG4"
      }
    },
    {
      "cell_type": "markdown",
      "metadata": {
        "id": "huKZ6QlYTGe7"
      },
      "source": [
        "### Tensor datatypes\n",
        "\n",
        "> **Note:**"
      ]
    },
    {
      "cell_type": "code",
      "execution_count": null,
      "metadata": {
        "colab": {
          "base_uri": "https://localhost:8080/"
        },
        "id": "q3MoGnpw9XaF",
        "outputId": "fc5f9281-6a45-4536-9115-130a6452dc23"
      },
      "outputs": [
        {
          "output_type": "execute_result",
          "data": {
            "text/plain": [
              "(torch.Size([3]), torch.float32, device(type='cpu'))"
            ]
          },
          "metadata": {},
          "execution_count": 20
        }
      ],
      "source": [
        "# Default datatype for tensors is float32\n",
        "float_32_tensor = torch.tensor([3.0, 6.0, 9.0],\n",
        "                               dtype=None,          # Defaults to None, which is torch.float32 or whatever datatype is passed\n",
        "                               device=None,         # Defaults to None, which uses the default tensor type\n",
        "                               requires_grad=False) # If True, operations performed on the tensor are recorded\n",
        "\n",
        "# Menampilkan bentuk, tipe data, dan perangkat (device) dari tensor float_32_tensor\n",
        "float_32_tensor.shape, float_32_tensor.dtype, float_32_tensor.device"
      ]
    },
    {
      "cell_type": "markdown",
      "source": [
        "\n",
        "\n",
        "*   Membuat tensor float_32_tensor dengan tipe data default float32, bentuk tensor diambil dari data yang diberikan (3 elemen), perangkat (device) default, dan tanpa gradient (requires_grad=False).\n",
        "*   Menampilkan bentuk, tipe data, dan perangkat (device) dari tensor float_32_tensor.\n"
      ],
      "metadata": {
        "id": "nRkWxhmqyvkr"
      }
    },
    {
      "cell_type": "code",
      "execution_count": null,
      "metadata": {
        "colab": {
          "base_uri": "https://localhost:8080/"
        },
        "id": "PKSuajld_09s",
        "outputId": "a4edd9f2-22dd-49b7-cb7c-66993bf8570d"
      },
      "outputs": [
        {
          "output_type": "execute_result",
          "data": {
            "text/plain": [
              "torch.float16"
            ]
          },
          "metadata": {},
          "execution_count": 21
        }
      ],
      "source": [
        "# Membuat tensor dengan tipe data float16\n",
        "float_16_tensor = torch.tensor([3.0, 6.0, 9.0],\n",
        "                               dtype=torch.float16)  # torch.half would also work\n",
        "\n",
        "# Menampilkan tipe data dari tensor float_16_tensor\n",
        "float_16_tensor.dtype"
      ]
    },
    {
      "cell_type": "markdown",
      "source": [
        "\n",
        "\n",
        "*   Membuat tensor float_16_tensor dengan tipe data float16.\n",
        "*  Menampilkan tipe data dari tensor float_16_tensor.\n"
      ],
      "metadata": {
        "id": "8OcRwDUsy4e6"
      }
    },
    {
      "cell_type": "markdown",
      "metadata": {
        "id": "gUjkB2AX7Upz"
      },
      "source": [
        "## Getting information from tensors\n",
        "\n",
        "**Getting information from tensors pada PyTorch fundamental adalah proses mengambil informasi dari tensor. Informasi yang dapat diambil dari tensor dapat berupa nilai tensor, ukuran tensor, dimensi tensor, atau tipe data tensor.**\n",
        "\n",
        "Ada beberapa cara untuk mendapatkan informasi dari tensor di PyTorch. Salah satu cara yang paling umum adalah menggunakan atribut tensor. Setiap tensor memiliki beberapa atribut yang dapat digunakan untuk mendapatkan informasi tentang tensor tersebut.\n",
        "\n",
        "Berikut adalah beberapa contoh penggunaan atribut tensor untuk mendapatkan informasi dari tensor:\n",
        "\n",
        "Cara lain untuk mendapatkan informasi dari tensor adalah menggunakan metode tensor. Setiap tensor memiliki beberapa metode yang dapat digunakan untuk mendapatkan informasi tentang tensor tersebut.\n",
        "\n",
        "Selain atribut dan metode tensor, Anda juga dapat menggunakan operator untuk mendapatkan informasi dari tensor. Misalnya, Anda dapat menggunakan operator `len()` untuk mendapatkan jumlah elemen dalam tensor.\n",
        "\n"
      ]
    },
    {
      "cell_type": "code",
      "execution_count": null,
      "metadata": {
        "colab": {
          "base_uri": "https://localhost:8080/"
        },
        "id": "hd_X4D0j7Umq",
        "outputId": "253acc44-3881-4d61-d3a6-5a1d4b7a0da0"
      },
      "outputs": [
        {
          "output_type": "stream",
          "name": "stdout",
          "text": [
            "tensor([[0.4416, 0.5443, 0.9440, 0.1085],\n",
            "        [0.7738, 0.8842, 0.5447, 0.5837],\n",
            "        [0.6097, 0.1575, 0.2596, 0.9772]])\n",
            "Shape of tensor: torch.Size([3, 4])\n",
            "Datatype of tensor: torch.float32\n",
            "Device tensor is stored on: cpu\n"
          ]
        }
      ],
      "source": [
        "# Membuat tensor acak dengan ukuran (3, 4)\n",
        "some_tensor = torch.rand(3, 4)\n",
        "\n",
        "# Menampilkan detail tentang tensor\n",
        "print(some_tensor)                                 # Menampilkan isi tensor\n",
        "print(f\"Shape of tensor: {some_tensor.shape}\")      # Menampilkan bentuk (shape) tensor\n",
        "print(f\"Datatype of tensor: {some_tensor.dtype}\")   # Menampilkan tipe data tensor\n",
        "print(f\"Device tensor is stored on: {some_tensor.device}\")  # Menampilkan perangkat (device) tempat tensor disimpan (akan menggunakan CPU jika tidak ditentukan)\n"
      ]
    },
    {
      "cell_type": "markdown",
      "source": [
        "\n",
        "\n",
        "*   Membuat tensor some_tensor dengan menggunakan torch.rand untuk mengisi tensor dengan nilai acak dan memberikan ukuran (shape) (3, 4).\n",
        "*   Menampilkan berbagai detail tentang tensor seperti nilai-nilai tensor, bentuk (shape), tipe data, dan perangkat (device) tempat tensor disimpan.\n",
        "\n"
      ],
      "metadata": {
        "id": "Ky51NvIO0jU-"
      }
    },
    {
      "cell_type": "markdown",
      "metadata": {
        "id": "BdiWvoAi7UjL"
      },
      "source": [
        "## Manipulating tensors (tensor operations)\n",
        "**Manipulating tensors (tensor operations) pada PyTorch fundamental adalah proses mengubah nilai, ukuran, dimensi, atau tipe data tensor.**\n",
        "\n",
        "Ada banyak cara untuk memanipulasi tensor di PyTorch. Salah satu cara yang paling umum adalah menggunakan operator matematika. Operator matematika dapat digunakan untuk melakukan operasi aritmatika pada tensor, seperti penjumlahan, pengurangan, perkalian, dan pembagian.\n",
        "\n",
        "Selain operator matematika,juga dapat menggunakan fungsi untuk memanipulasi tensor. Fungsi-fungsi ini dapat digunakan untuk melakukan operasi yang lebih kompleks, seperti transposisi, reshaping, dan slicing.\n"
      ]
    },
    {
      "cell_type": "markdown",
      "metadata": {
        "id": "Sk_6Dd7L7Uce"
      },
      "source": [
        "### Basic operations\n",
        "\n",
        "Let's start with a few of the fundamental operations, addition (`+`), subtraction (`-`), mutliplication (`*`).\n",
        "\n",
        "They work just as you think they would."
      ]
    },
    {
      "cell_type": "code",
      "execution_count": null,
      "metadata": {
        "colab": {
          "base_uri": "https://localhost:8080/"
        },
        "id": "X71WpQoPD7a4",
        "outputId": "75124298-df56-40ff-e015-a5178864bd35"
      },
      "outputs": [
        {
          "output_type": "execute_result",
          "data": {
            "text/plain": [
              "tensor([11, 12, 13])"
            ]
          },
          "metadata": {},
          "execution_count": 23
        }
      ],
      "source": [
        "# Creating a tensor of values and adding a number to it\n",
        "tensor = torch.tensor([1, 2, 3])\n",
        "tensor + 10\n",
        "# Output: tensor([11, 12, 13])"
      ]
    },
    {
      "cell_type": "code",
      "execution_count": null,
      "metadata": {
        "colab": {
          "base_uri": "https://localhost:8080/"
        },
        "id": "Sp4TlTWWEFeO",
        "outputId": "014dfcec-7dc5-4027-e340-ee47703ec74d"
      },
      "outputs": [
        {
          "output_type": "execute_result",
          "data": {
            "text/plain": [
              "tensor([10, 20, 30])"
            ]
          },
          "metadata": {},
          "execution_count": 24
        }
      ],
      "source": [
        "# Multiplying the tensor by 10\n",
        "tensor"
      ]
    },
    {
      "cell_type": "code",
      "execution_count": null,
      "metadata": {
        "colab": {
          "base_uri": "https://localhost:8080/"
        },
        "id": "XuB1UjCIEJIA",
        "outputId": "0dd54caf-b692-4b21-8ef0-10202e7b9c88"
      },
      "outputs": [
        {
          "output_type": "execute_result",
          "data": {
            "text/plain": [
              "tensor([1, 2, 3])"
            ]
          },
          "metadata": {},
          "execution_count": 25
        }
      ],
      "source": [
        "# Subtracting and reassigning\n",
        "tensor = tensor - 10\n",
        "tensor"
      ]
    },
    {
      "cell_type": "code",
      "execution_count": null,
      "metadata": {
        "colab": {
          "base_uri": "https://localhost:8080/"
        },
        "id": "U4iWKoLsENry",
        "outputId": "06d94338-e913-4bbd-d0e0-247850eab74d"
      },
      "outputs": [
        {
          "output_type": "execute_result",
          "data": {
            "text/plain": [
              "tensor([-9, -8, -7])"
            ]
          },
          "metadata": {},
          "execution_count": 26
        }
      ],
      "source": [
        "# Subtract and reassign\n",
        "tensor = tensor - 10\n",
        "tensor"
      ]
    },
    {
      "cell_type": "code",
      "execution_count": null,
      "metadata": {
        "colab": {
          "base_uri": "https://localhost:8080/"
        },
        "id": "tFgZY-PaFNXa",
        "outputId": "17bf8e37-b562-413d-c618-8095519192c7"
      },
      "outputs": [
        {
          "output_type": "execute_result",
          "data": {
            "text/plain": [
              "tensor([1, 2, 3])"
            ]
          },
          "metadata": {},
          "execution_count": 27
        }
      ],
      "source": [
        "# Adding and reassigning\n",
        "tensor = tensor + 10\n",
        "tensor"
      ]
    },
    {
      "cell_type": "code",
      "execution_count": null,
      "metadata": {
        "colab": {
          "base_uri": "https://localhost:8080/"
        },
        "id": "uVysdk3kFWbY",
        "outputId": "67107081-7765-4b44-c7e5-19fcb4238b82"
      },
      "outputs": [
        {
          "output_type": "execute_result",
          "data": {
            "text/plain": [
              "tensor([10, 20, 30])"
            ]
          },
          "metadata": {},
          "execution_count": 28
        }
      ],
      "source": [
        "#  Using torch.multiply() function\n",
        "torch.multiply(tensor, 10)"
      ]
    },
    {
      "cell_type": "code",
      "execution_count": null,
      "metadata": {
        "colab": {
          "base_uri": "https://localhost:8080/"
        },
        "id": "IxuPJIpNFbqO",
        "outputId": "6e7a6b41-8418-4c2a-95c4-b6f6b2e357b7"
      },
      "outputs": [
        {
          "output_type": "execute_result",
          "data": {
            "text/plain": [
              "tensor([1, 2, 3])"
            ]
          },
          "metadata": {},
          "execution_count": 29
        }
      ],
      "source": [
        "# Original tensor is still unchanged\n",
        "tensor"
      ]
    },
    {
      "cell_type": "code",
      "execution_count": null,
      "metadata": {
        "colab": {
          "base_uri": "https://localhost:8080/"
        },
        "id": "S5v3RkR0F2Jq",
        "outputId": "a384ebea-f2d8-465e-e55d-efcf345c8bde"
      },
      "outputs": [
        {
          "output_type": "stream",
          "name": "stdout",
          "text": [
            "tensor([1, 2, 3]) * tensor([1, 2, 3])\n",
            "Equals: tensor([1, 4, 9])\n"
          ]
        }
      ],
      "source": [
        "# Element-wise multiplication (each element multiplies its equivalent, index 0->0, 1->1, 2->2)\n",
        "print(tensor, \"*\", tensor)\n",
        "print(\"Equals:\", tensor * tensor)"
      ]
    },
    {
      "cell_type": "markdown",
      "source": [
        "**Penjelasan:**\n",
        "1. **Penambahan Nilai ke Tensor ([23]):**\n",
        "   - Membuat tensor `tensor` dengan nilai [1, 2, 3].\n",
        "   - Menambahkan nilai 10 ke setiap elemen tensor.\n",
        "\n",
        "2. **Perkalian Tensor dengan Angka ([24]):**\n",
        "   - Mengalikan setiap elemen tensor dengan 10.\n",
        "\n",
        "3. **Menampilkan Tensor Asli ([25]):**\n",
        "   - Menampilkan tensor asli tanpa perubahan.\n",
        "\n",
        "4. **Pengurangan dan Pembaruan Tensor ([26] dan [27]):**\n",
        "   - Mengurangkan nilai 10 dan kemudian menambahkan nilai 10 ke setiap elemen tensor, melakukan pembaruan nilai.\n",
        "\n",
        "5. **Penggunaan Fungsi PyTorch untuk Perkalian ([28]):**\n",
        "   - Menggunakan fungsi PyTorch `torch.multiply()` untuk mengalikan tensor dengan 10.\n",
        "\n",
        "6. **Menampilkan Tensor Asli ([29]):**\n",
        "   - Menampilkan tensor asli tanpa perubahan setelah operasi perkalian.\n",
        "\n",
        "7. **Perkalian Elemen-wise Menggunakan Operator * ([30]):**\n",
        "   - Melakukan perkalian elemen-wise (setiap elemen dikalikan dengan elemen yang setara) dan menampilkan hasilnya.\n",
        "   - Hasilnya adalah tensor baru dengan elemen hasil perkalian.\n",
        "   - Operator `*` lebih umum digunakan daripada fungsi PyTorch untuk perkalian.\n",
        "\n",
        "**Catatan:**\n",
        "- Operasi tensor dapat dilakukan dengan operator matematika standar atau menggunakan fungsi PyTorch.\n",
        "- Tensor asli tidak berubah kecuali jika direassign dengan hasil operasi."
      ],
      "metadata": {
        "id": "izrLqpmw4AeF"
      }
    },
    {
      "cell_type": "markdown",
      "metadata": {
        "id": "TT5fVuyu7q5z"
      },
      "source": [
        "### Matrix multiplication (is all you need)\n",
        "\n",
        "**Matrix multiplication pada PyTorch fundamental adalah operasi matematika yang mengalikan dua matriks. Matriks adalah struktur data dua dimensi yang terdiri dari elemen-elemen. Matriks dapat digunakan untuk mewakili berbagai macam data, seperti transformasi linear, hubungan antara variabel, dan data kuantitatif.**\n",
        "\n",
        "Dalam PyTorch, matrix multiplication dapat dilakukan menggunakan fungsi `torch.matmul()`. Fungsi ini menerima dua matriks sebagai input dan menghasilkan matriks sebagai output.\n",
        "\n",
        "\n",
        "* Dimensi pertama dari matriks pertama harus sama dengan dimensi kedua dari matriks kedua.\n",
        "* Dimensi keluaran matriks perkalian adalah jumlah elemen dalam dimensi pertama dari matriks pertama dan dimensi pertama dari matriks kedua.\n",
        "\n",
        "Berikut adalah beberapa contoh lain dari matrix multiplication:\n",
        "\n",
        "* Matriks perkalian dapat digunakan untuk mewakili transformasi linear. Misalnya, matriks perkalian dapat digunakan untuk memutar, mencerminkan, atau menggeser gambar.\n",
        "* Matriks perkalian dapat digunakan untuk mewakili hubungan antara variabel. Misalnya, matriks perkalian dapat digunakan untuk memprediksi nilai variabel Y dari nilai variabel X.\n",
        "* Matriks perkalian dapat digunakan untuk melakukan berbagai macam operasi matematika, seperti penjumlahan, pengurangan, dan perkalian.\n",
        "\n",
        "Matrix multiplication adalah operasi matematika yang penting yang banyak digunakan dalam berbagai bidang, termasuk pembelajaran mesin, computer vision, dan kecerdasan buatan.\n"
      ]
    },
    {
      "cell_type": "code",
      "execution_count": null,
      "metadata": {
        "colab": {
          "base_uri": "https://localhost:8080/"
        },
        "id": "ZE7loucmDlEM",
        "outputId": "dac41570-ac15-4cd0-8aa1-138abd38d869"
      },
      "outputs": [
        {
          "output_type": "execute_result",
          "data": {
            "text/plain": [
              "torch.Size([3])"
            ]
          },
          "metadata": {},
          "execution_count": 31
        }
      ],
      "source": [
        "import torch\n",
        "# Membuat tensor dengan nilai [1, 2, 3]\n",
        "tensor = torch.tensor([1, 2, 3])\n",
        "# Menampilkan bentuk (shape) tensor\n",
        "tensor.shape"
      ]
    },
    {
      "cell_type": "code",
      "execution_count": null,
      "metadata": {
        "colab": {
          "base_uri": "https://localhost:8080/"
        },
        "id": "i42gkUeHvI_1",
        "outputId": "4f82877e-a764-4f46-8eeb-d482805a02ae"
      },
      "outputs": [
        {
          "output_type": "execute_result",
          "data": {
            "text/plain": [
              "tensor([1, 4, 9])"
            ]
          },
          "metadata": {},
          "execution_count": 32
        }
      ],
      "source": [
        "# Operasi perkalian elemen-wise pada tensor\n",
        "tensor * tensor"
      ]
    },
    {
      "cell_type": "code",
      "execution_count": null,
      "metadata": {
        "colab": {
          "base_uri": "https://localhost:8080/"
        },
        "id": "PvCBiiTTDk8y",
        "outputId": "1e2713bd-5b14-48a7-80ba-b23c92574631"
      },
      "outputs": [
        {
          "output_type": "execute_result",
          "data": {
            "text/plain": [
              "tensor(14)"
            ]
          },
          "metadata": {},
          "execution_count": 33
        }
      ],
      "source": [
        "# Operasi perkalian matriks (dot product)\n",
        "torch.matmul(tensor, tensor)"
      ]
    },
    {
      "cell_type": "code",
      "execution_count": null,
      "metadata": {
        "colab": {
          "base_uri": "https://localhost:8080/"
        },
        "id": "m4E_pROBDk2r",
        "outputId": "70500a85-53b2-4f95-cbf9-b5a5ad581d9d"
      },
      "outputs": [
        {
          "output_type": "execute_result",
          "data": {
            "text/plain": [
              "tensor(14)"
            ]
          },
          "metadata": {},
          "execution_count": 34
        }
      ],
      "source": [
        "# Alternatif penggunaan simbol \"@\" untuk perkalian matriks (not recommended)\n",
        "tensor @ tensor"
      ]
    },
    {
      "cell_type": "code",
      "execution_count": null,
      "metadata": {
        "colab": {
          "base_uri": "https://localhost:8080/"
        },
        "id": "6qMSaLOoJscL",
        "outputId": "40d555dd-1498-4579-9545-3708ca281935"
      },
      "outputs": [
        {
          "output_type": "stream",
          "name": "stdout",
          "text": [
            "CPU times: user 1.67 ms, sys: 0 ns, total: 1.67 ms\n",
            "Wall time: 1.67 ms\n"
          ]
        },
        {
          "output_type": "execute_result",
          "data": {
            "text/plain": [
              "tensor(14)"
            ]
          },
          "metadata": {},
          "execution_count": 35
        }
      ],
      "source": [
        "%%time\n",
        "# Pengukuran waktu untuk operasi perkalian matriks dengan perulangan\n",
        "# (disarankan untuk menghindari penggunaan perulangan for dalam operasi tensor karena komputasionalnya mahal)\n",
        "value = 0\n",
        "for i in range(len(tensor)):\n",
        "  value += tensor[i] * tensor[i]\n",
        "value"
      ]
    },
    {
      "cell_type": "code",
      "execution_count": null,
      "metadata": {
        "colab": {
          "base_uri": "https://localhost:8080/"
        },
        "id": "vVWiKB0KwH74",
        "outputId": "1b3f55ce-9bed-4c29-b524-954d891a310a"
      },
      "outputs": [
        {
          "output_type": "stream",
          "name": "stdout",
          "text": [
            "CPU times: user 33 µs, sys: 7 µs, total: 40 µs\n",
            "Wall time: 43.2 µs\n"
          ]
        },
        {
          "output_type": "execute_result",
          "data": {
            "text/plain": [
              "tensor(14)"
            ]
          },
          "metadata": {},
          "execution_count": 36
        }
      ],
      "source": [
        "%%time\n",
        "# Pengukuran waktu untuk operasi perkalian matriks dengan torch.matmul\n",
        "torch.matmul(tensor, tensor)"
      ]
    },
    {
      "cell_type": "markdown",
      "source": [
        "\n",
        "**Note:**\n",
        "1. **Pembuatan Tensor dan Menampilkan Bentuk ([1] dan [2]):**\n",
        "   - Membuat tensor `tensor` dengan nilai [1, 2, 3].\n",
        "   - Menampilkan bentuk (shape) tensor, yang dalam hal ini adalah `[3]`.\n",
        "\n",
        "2. **Operasi Perkalian Elemen-wise dan Matriks ([3] hingga [6]):**\n",
        "   - Melakukan perkalian elemen-wise pada tensor dengan dirinya sendiri.\n",
        "   - Melakukan operasi perkalian matriks (dot product) menggunakan `torch.matmul`.\n",
        "   - Alternatif penggunaan simbol \"@\" untuk perkalian matriks, walaupun tidak disarankan.\n",
        "\n",
        "3. **Pengukuran Waktu untuk Operasi Perkalian Matriks ([7] dan [9]):**\n",
        "   - Menggunakan `%%time` untuk mengukur waktu eksekusi operasi perkalian matriks dengan perulangan for.\n",
        "   - Melakukan operasi perkalian matriks dengan `torch.matmul` dan mengukur waktu eksekusinya.\n",
        "   - Hasilnya menunjukkan bahwa operasi dengan `torch.matmul` lebih efisien dan lebih cepat."
      ],
      "metadata": {
        "id": "kmBZrBxw5Pd5"
      }
    },
    {
      "cell_type": "markdown",
      "metadata": {
        "id": "aJ4DDmo1TGe-"
      },
      "source": [
        "## One of the most common errors in deep learning (shape errors)\n",
        "Salah satu kesalahan umum dalam pembelajaran mendalam (deep learning) dengan PyTorch adalah kesalahan pada penanganan dimensi atau bentuk tensor. Beberapa kesalahan yang sering terjadi antara lain:\n",
        "\n",
        "1. **Mismatch Dimensi/Tensor Shape:**\n",
        "   - Kesalahan ini terjadi ketika dimensi tensor yang diharapkan oleh suatu operasi tidak sesuai dengan dimensi tensor yang diberikan sebagai input. Misalnya, matriks yang diharapkan memiliki dimensi (m, n), tetapi input yang diberikan memiliki dimensi yang tidak sesuai.\n",
        "\n",
        "2. **Batch Size Tidak Konsisten:**\n",
        "   - Dalam pelatihan model deep learning, batch size harus konsisten di seluruh data set. Kesalahan dapat terjadi jika ada variasi dalam batch size antara iterasi, yang dapat menyebabkan masalah dalam komputasi gradien.\n",
        "\n",
        "3. **Perhatikan Input Model:**\n",
        "   - Pastikan input yang diberikan ke model sesuai dengan input yang diharapkan oleh arsitektur model. Kesalahan ini dapat muncul jika ada ketidakcocokan antara struktur input dan model yang diharapkan.\n",
        "\n",
        "4. **Penanganan Nilai Nol atau NaN (Not a Number):**\n",
        "   - Terkadang, dalam proses pelatihan, nilai-nilai NaN atau infinity dapat muncul. Ini bisa terjadi jika ada pembagian dengan nol atau operasi lain yang menyebabkan nilai yang tidak terdefinisi. Memeriksa dan mengelola ini dapat membantu menghindari masalah tersebut.\n",
        "\n",
        "5. **Memastikan Tipe Data yang Benar:**\n",
        "   - Pastikan bahwa tipe data tensor yang digunakan sesuai dengan yang diharapkan oleh operasi atau model. Kesalahan dapat terjadi jika tipe data tidak sesuai.\n",
        "\n",
        "6. **Inisialisasi Bobot yang Tidak Tepat:**\n",
        "   - Inisialisasi bobot model dengan benar sangat penting. Jika bobot diinisialisasi dengan nilai yang terlalu kecil atau terlalu besar, atau dengan distribusi yang tidak tepat, ini dapat menghambat konvergensi model.\n",
        "\n",
        "7. **Pemahaman Fungsi Loss:**\n",
        "   - Pastikan pemahaman yang baik tentang fungsi loss yang digunakan. Kesalahan dalam penggunaan fungsi loss dapat menyebabkan hasil yang tidak akurat.\n",
        "\n",
        "Untuk menghindari kesalahan-kesalahan ini, sangat penting untuk memahami dengan baik dokumentasi PyTorch dan secara cermat memeriksa kode Anda, termasuk penanganan dimensi tensor, tipe data, dan parameter lainnya. Memiliki pemahaman yang kuat tentang dasar-dasar PyTorch dan konsep deep learning akan membantu mencegah dan menemukan kesalahan dengan lebih efisien."
      ]
    },
    {
      "cell_type": "code",
      "execution_count": null,
      "metadata": {
        "colab": {
          "base_uri": "https://localhost:8080/"
        },
        "id": "rN5RcoD4Jo6y",
        "outputId": "ae761889-9e1b-4981-c86f-0366e7a1f70f"
      },
      "outputs": [
        {
          "output_type": "stream",
          "name": "stdout",
          "text": [
            "tensor([[ 27.,  30.,  33.],\n",
            "        [ 61.,  68.,  75.],\n",
            "        [ 95., 106., 117.]])\n"
          ]
        }
      ],
      "source": [
        "# Membuat tensor_A dan tensor_B dengan tipe data float32\n",
        "tensor_A = torch.tensor([[1, 2],\n",
        "                         [3, 4],\n",
        "                         [5, 6]], dtype=torch.float32)\n",
        "\n",
        "tensor_B = torch.tensor([[7, 10],\n",
        "                         [8, 11],\n",
        "                         [9, 12]], dtype=torch.float32)\n",
        "\n",
        "# Melakukan transpose pada tensor_B agar perkalian menjadi valid\n",
        "tensor_B_transposed = tensor_B.t()\n",
        "\n",
        "# Melakukan perkalian matriks menggunakan torch.matmul\n",
        "result = torch.matmul(tensor_A, tensor_B_transposed)\n",
        "print(result)"
      ]
    },
    {
      "cell_type": "code",
      "execution_count": null,
      "metadata": {
        "colab": {
          "base_uri": "https://localhost:8080/"
        },
        "id": "lUqgaANiy1wq",
        "outputId": "691968b1-44b6-4711-ad65-91792e7001ce"
      },
      "outputs": [
        {
          "output_type": "stream",
          "name": "stdout",
          "text": [
            "tensor([[1., 2.],\n",
            "        [3., 4.],\n",
            "        [5., 6.]])\n",
            "tensor([[ 7., 10.],\n",
            "        [ 8., 11.],\n",
            "        [ 9., 12.]])\n"
          ]
        }
      ],
      "source": [
        "# Menampilkan isi dari tensor_A dan tensor_B\n",
        "print(tensor_A)\n",
        "print(tensor_B)"
      ]
    },
    {
      "cell_type": "code",
      "execution_count": null,
      "metadata": {
        "colab": {
          "base_uri": "https://localhost:8080/"
        },
        "id": "DveqxO7iy_Fi",
        "outputId": "2c233d0b-4ac5-4c46-8f61-a060125ebaa4"
      },
      "outputs": [
        {
          "output_type": "stream",
          "name": "stdout",
          "text": [
            "tensor([[1., 2.],\n",
            "        [3., 4.],\n",
            "        [5., 6.]])\n",
            "tensor([[ 7.,  8.,  9.],\n",
            "        [10., 11., 12.]])\n"
          ]
        }
      ],
      "source": [
        "# Menampilkan isi dari tensor_A dan tensor_B.T (transpose)\n",
        "print(tensor_A)\n",
        "print(tensor_B.T)"
      ]
    },
    {
      "cell_type": "code",
      "execution_count": null,
      "metadata": {
        "colab": {
          "base_uri": "https://localhost:8080/"
        },
        "id": "35rEIu-NKtVE",
        "outputId": "ce4b349b-1c11-4e44-9b7c-27fab155e69f"
      },
      "outputs": [
        {
          "output_type": "stream",
          "name": "stdout",
          "text": [
            "Original shapes: tensor_A = torch.Size([3, 2]), tensor_B = torch.Size([3, 2])\n",
            "\n",
            "New shapes: tensor_A = torch.Size([3, 2]) (same as above), tensor_B.T = torch.Size([2, 3])\n",
            "\n",
            "Multiplying: torch.Size([3, 2]) * torch.Size([2, 3]) <- inner dimensions match\n",
            "\n",
            "Output:\n",
            "\n",
            "tensor([[ 27.,  30.,  33.],\n",
            "        [ 61.,  68.,  75.],\n",
            "        [ 95., 106., 117.]])\n",
            "\n",
            "Output shape: torch.Size([3, 3])\n"
          ]
        }
      ],
      "source": [
        "# Operasi perkalian berhasil ketika tensor_B di-transpose\n",
        "print(f\"Original shapes: tensor_A = {tensor_A.shape}, tensor_B = {tensor_B.shape}\\n\")\n",
        "print(f\"New shapes: tensor_A = {tensor_A.shape} (same as above), tensor_B.T = {tensor_B.T.shape}\\n\")\n",
        "print(f\"Multiplying: {tensor_A.shape} * {tensor_B.T.shape} <- inner dimensions match\\n\")\n",
        "print(\"Output:\\n\")\n",
        "output = torch.matmul(tensor_A, tensor_B.T)\n",
        "print(output)\n",
        "print(f\"\\nOutput shape: {output.shape}\")"
      ]
    },
    {
      "cell_type": "code",
      "execution_count": null,
      "metadata": {
        "colab": {
          "base_uri": "https://localhost:8080/"
        },
        "id": "x3rJvW_TTGe_",
        "outputId": "83bfe760-e70a-4e42-d6f0-370f91b2043f"
      },
      "outputs": [
        {
          "output_type": "execute_result",
          "data": {
            "text/plain": [
              "tensor([[ 27.,  30.,  33.],\n",
              "        [ 61.,  68.,  75.],\n",
              "        [ 95., 106., 117.]])"
            ]
          },
          "metadata": {},
          "execution_count": 41
        }
      ],
      "source": [
        "# torch.mm adalah singkatan dari matmul\n",
        "torch.mm(tensor_A, tensor_B.T)"
      ]
    },
    {
      "cell_type": "code",
      "execution_count": null,
      "metadata": {
        "colab": {
          "base_uri": "https://localhost:8080/"
        },
        "id": "mC_MjKW1LX7T",
        "outputId": "d1055660-d831-4973-ee78-79aeb1ad7a5b"
      },
      "outputs": [
        {
          "output_type": "stream",
          "name": "stdout",
          "text": [
            "Input shape: torch.Size([3, 2])\n",
            "\n",
            "Output:\n",
            "tensor([[2.2368, 1.2292, 0.4714, 0.3864, 0.1309, 0.9838],\n",
            "        [4.4919, 2.1970, 0.4469, 0.5285, 0.3401, 2.4777],\n",
            "        [6.7469, 3.1648, 0.4224, 0.6705, 0.5493, 3.9716]],\n",
            "       grad_fn=<AddmmBackward0>)\n",
            "\n",
            "Output shape: torch.Size([3, 6])\n"
          ]
        }
      ],
      "source": [
        "# Mengatur seed agar hasil reproduktif\n",
        "torch.manual_seed(42)\n",
        "\n",
        "# Membuat layer linear dengan PyTorch\n",
        "linear = torch.nn.Linear(in_features=2, # in_features = sesuai dengan dimensi inner input\n",
        "                         out_features=6) # out_features = jumlah neuron pada layer\n",
        "x = tensor_A\n",
        "output = linear(x)\n",
        "print(f\"Input shape: {x.shape}\\n\")\n",
        "print(f\"Output:\\n{output}\\n\\nOutput shape: {output.shape}\")"
      ]
    },
    {
      "cell_type": "markdown",
      "source": [
        "**Catatan dan Penjelasan:**\n",
        "1. **Pembuatan Tensor dan Transpose ([1] hingga [3]):**\n",
        "   - Dua tensor, `tensor_A` dan `tensor_B`, dibuat dengan tipe data float32.\n",
        "   - `tensor_B` di-transpose agar operasi perkalian matriks menjadi valid.\n",
        "\n",
        "2. **Operasi Perkalian Matriks ([5] hingga [15]):**\n",
        "   - Melakukan operasi perkalian matriks antara `tensor_A` dan transpose dari `tensor_B`.\n",
        "   - Menampilkan isi `tensor_A` dan `tensor_B`.\n",
        "   - Menampilkan isi `tensor_A` dan transpose dari `tensor_B`.\n",
        "   - Menunjukkan bahwa operasi perkalian matriks valid ketika `tensor_B` di-transpose.\n",
        "\n",
        "3. **Penggunaan torch.nn.Linear ([17] hingga [26]):**\n",
        "   - Membuat layer linear dengan PyTorch.\n",
        "   - Menggunakan layer linear untuk melakukan operasi matrix multiplication dengan tensor `tensor_A`.\n",
        "   - Menampilkan ukuran input dan output dari operasi tersebut.\n",
        "   - Penetapan seed memastikan hasil yang dapat direproduksi."
      ],
      "metadata": {
        "id": "aT_w7cKe7R6a"
      }
    },
    {
      "cell_type": "markdown",
      "metadata": {
        "id": "pjMmrJOOPv5e"
      },
      "source": [
        "### Finding the min, max, mean, sum, etc (aggregation)\n",
        "Dalam PyTorch, Anda dapat menggunakan fungsi-fungsi bawaan untuk menemukan nilai minimum, maksimum, rata-rata, dan jumlah dari elemen-elemen tensor. Berikut adalah beberapa contoh penggunaan fungsi-fungsi tersebut:\n",
        "\n",
        "Pastikan untuk memperhatikan tipe data tensor, karena dalam beberapa kasus, Anda mungkin perlu mengkonversi tipe data ke float terlebih dahulu untuk menghindari kesalahan atau hasil yang tidak diinginkan. Juga, perhatikan bahwa metode `.item()` digunakan untuk mendapatkan nilai skalar dari tensor dengan satu elemen.\n",
        "\n"
      ]
    },
    {
      "cell_type": "code",
      "execution_count": null,
      "metadata": {
        "colab": {
          "base_uri": "https://localhost:8080/"
        },
        "id": "jrFQbe5fP1Rk",
        "outputId": "a6b8a1f9-745d-4f85-ea9c-5eb900019a81"
      },
      "outputs": [
        {
          "output_type": "execute_result",
          "data": {
            "text/plain": [
              "tensor([ 0, 10, 20, 30, 40, 50, 60, 70, 80, 90])"
            ]
          },
          "metadata": {},
          "execution_count": 43
        }
      ],
      "source": [
        "# Membuat tensor menggunakan torch.arange() dengan nilai awal 0, akhir 100 (tidak termasuk), dan langkah 10\n",
        "x = torch.arange(0, 100, 10)\n",
        "x"
      ]
    },
    {
      "cell_type": "code",
      "execution_count": null,
      "metadata": {
        "colab": {
          "base_uri": "https://localhost:8080/"
        },
        "id": "e5wSP9YKP3Lb",
        "outputId": "8c004e95-8c53-45d4-fd50-7a581cfc0b41"
      },
      "outputs": [
        {
          "output_type": "stream",
          "name": "stdout",
          "text": [
            "Minimum: 0\n",
            "Maximum: 90\n",
            "Mean: 45.0\n",
            "Sum: 450\n"
          ]
        }
      ],
      "source": [
        "# Menampilkan nilai maksimum dari tensor x\n",
        "print(f\"Maximum: {x.max()}\")\n",
        "\n",
        "# Menampilkan mean dari tensor x (perlu diubah tipe datanya menjadi float32)\n",
        "# print(f\"Mean: {x.mean()}\")  # Baris ini akan menghasilkan error\n",
        "print(f\"Mean: {x.type(torch.float32).mean()}\")  # Harus mengubah tipe data menjadi float32\n",
        "\n",
        "# Menampilkan jumlah (sum) dari semua elemen tensor x\n",
        "print(f\"Sum: {x.sum()}\")"
      ]
    },
    {
      "cell_type": "code",
      "execution_count": null,
      "metadata": {
        "colab": {
          "base_uri": "https://localhost:8080/"
        },
        "id": "0Cr23Y9uP3HO",
        "outputId": "0d5053d4-cea9-4007-ad2b-816a972bd4f8"
      },
      "outputs": [
        {
          "output_type": "execute_result",
          "data": {
            "text/plain": [
              "(tensor(90), tensor(0), tensor(45.), tensor(450))"
            ]
          },
          "metadata": {},
          "execution_count": 45
        }
      ],
      "source": [
        "# Penggunaan fungsi max, min, mean, dan sum dengan torch\n",
        "torch.max(x), torch.min(x), torch.mean(x.type(torch.float32)), torch.sum(x)"
      ]
    },
    {
      "cell_type": "markdown",
      "source": [
        "**Catatan dan Penjelasan:**\n",
        "1. **Pembuatan Tensor dengan arange() ([1]):**\n",
        "   - `torch.arange(0, 100, 10)` digunakan untuk membuat tensor `x` dengan nilai awal 0, akhir 100 (tidak termasuk), dan langkah 10.\n",
        "\n",
        "2. **Operasi Statistik pada Tensor ([3] hingga [12]):**\n",
        "   - `x.min()` digunakan untuk mendapatkan nilai minimum dari tensor `x`.\n",
        "   - `x.max()` digunakan untuk mendapatkan nilai maksimum dari tensor `x`.\n",
        "   - `x.type(torch.float32).mean()` digunakan untuk mendapatkan nilai mean dari tensor `x` setelah diubah tipe datanya menjadi float32.\n",
        "   - `x.sum()` digunakan untuk mendapatkan jumlah (sum) dari semua elemen tensor `x`.\n",
        "\n",
        "3. **Penggunaan Fungsi Torch untuk Statistik ([14]):**\n",
        "   - `torch.max(x)`, `torch.min(x)`, `torch.mean(x.type(torch.float32))`, dan `torch.sum(x)` digunakan untuk mendapatkan nilai maksimum, minimum, mean, dan jumlah (sum) dari tensor `x` menggunakan fungsi PyTorch.\n",
        "\n",
        "**Note:**\n",
        "- Operasi statistik seperti min, max, mean, dan sum dapat dilakukan langsung pada tensor.\n",
        "- Untuk menggunakan mean, tipe data tensor perlu diubah terlebih dahulu menjadi float32 karena mean tidak dapat dihitung pada tensor integer."
      ],
      "metadata": {
        "id": "wdEJ2r7j8t9u"
      }
    },
    {
      "cell_type": "markdown",
      "metadata": {
        "id": "i7ApCaZjDkvp"
      },
      "source": [
        "### Positional min/max\n",
        "\n"
      ]
    },
    {
      "cell_type": "code",
      "execution_count": null,
      "metadata": {
        "colab": {
          "base_uri": "https://localhost:8080/"
        },
        "id": "FzNBl9JSGlHi",
        "outputId": "623261a7-fbb5-482c-fc7d-0c5171e83190"
      },
      "outputs": [
        {
          "output_type": "stream",
          "name": "stdout",
          "text": [
            "Tensor: tensor([10, 20, 30, 40, 50, 60, 70, 80, 90])\n",
            "Index where max value occurs: 8\n",
            "Index where min value occurs: 0\n"
          ]
        }
      ],
      "source": [
        "# Membuat tensor dengan nilai dari 10 hingga 90 dengan langkah 10\n",
        "tensor = torch.arange(10, 100, 10)\n",
        "print(f\"Tensor: {tensor}\")\n",
        "\n",
        "# Mendapatkan indeks dari nilai maksimum dan minimum dalam tensor\n",
        "print(f\"Index where max value occurs: {tensor.argmax()}\")\n",
        "print(f\"Index where min value occurs: {tensor.argmin()}\")"
      ]
    },
    {
      "cell_type": "markdown",
      "source": [
        "**Penjelasan:**\n",
        "1. **Pembuatan Tensor ([1]):**\n",
        "   - `torch.arange(10, 100, 10)` digunakan untuk membuat tensor `tensor` dengan nilai mulai dari 10, hingga 90 dengan langkah 10.\n",
        "\n",
        "2. **Mendapatkan Indeks Maksimum dan Minimum ([4] dan [5]):**\n",
        "   - `tensor.argmax()` digunakan untuk mendapatkan indeks dari nilai maksimum dalam tensor.\n",
        "   - `tensor.argmin()` digunakan untuk mendapatkan indeks dari nilai minimum dalam tensor."
      ],
      "metadata": {
        "id": "RkVGR1Z_9pSO"
      }
    },
    {
      "cell_type": "markdown",
      "metadata": {
        "id": "QBu33WihOXBk"
      },
      "source": [
        "### Change tensor datatype\n",
        "\n"
      ]
    },
    {
      "cell_type": "code",
      "execution_count": null,
      "metadata": {
        "colab": {
          "base_uri": "https://localhost:8080/"
        },
        "id": "rY2FEsCAOaLu",
        "outputId": "976cc7a9-ffd8-47f4-8410-ea69878943c1"
      },
      "outputs": [
        {
          "output_type": "execute_result",
          "data": {
            "text/plain": [
              "torch.float32"
            ]
          },
          "metadata": {},
          "execution_count": 47
        }
      ],
      "source": [
        "# Membuat tensor dan memeriksa tipe datanya\n",
        "tensor = torch.arange(10., 100., 10.)\n",
        "tensor.dtype"
      ]
    },
    {
      "cell_type": "code",
      "execution_count": null,
      "metadata": {
        "colab": {
          "base_uri": "https://localhost:8080/"
        },
        "id": "Cac8gRYjOeab",
        "outputId": "000710c1-3099-4019-eafc-4d518a98d0bc"
      },
      "outputs": [
        {
          "output_type": "execute_result",
          "data": {
            "text/plain": [
              "tensor([10., 20., 30., 40., 50., 60., 70., 80., 90.], dtype=torch.float16)"
            ]
          },
          "metadata": {},
          "execution_count": 48
        }
      ],
      "source": [
        "# Membuat tensor dengan tipe data float16\n",
        "tensor_float16 = tensor.type(torch.float16)\n",
        "tensor_float16"
      ]
    },
    {
      "cell_type": "code",
      "execution_count": null,
      "metadata": {
        "colab": {
          "base_uri": "https://localhost:8080/"
        },
        "id": "8Yqovld2Oj6s",
        "outputId": "3ebaca2a-1f5a-45a9-e3f7-f3b92fafcffe"
      },
      "outputs": [
        {
          "output_type": "execute_result",
          "data": {
            "text/plain": [
              "tensor([10, 20, 30, 40, 50, 60, 70, 80, 90], dtype=torch.int8)"
            ]
          },
          "metadata": {},
          "execution_count": 49
        }
      ],
      "source": [
        "# Membuat tensor dengan tipe data int8\n",
        "tensor_int8 = tensor.type(torch.int8)\n",
        "tensor_int8"
      ]
    },
    {
      "cell_type": "markdown",
      "source": [
        "**Penjelasan:**\n",
        "1. **Pembuatan Tensor dan Pemeriksaan Tipe Data ([1] dan [3]):**\n",
        "   - `torch.arange(10., 100., 10.)` digunakan untuk membuat tensor `tensor` dengan nilai dari 10 hingga 90 dengan langkah 10, dan tipe data float32 (default).\n",
        "   - `tensor.dtype` digunakan untuk mendapatkan tipe data tensor tersebut.\n",
        "\n",
        "2. **Membuat Tensor dengan Tipe Data Float16 ([5] dan [6]):**\n",
        "   - `tensor.type(torch.float16)` digunakan untuk membuat tensor baru dengan tipe data float16 dari tensor asli `tensor`.\n",
        "\n",
        "3. **Membuat Tensor dengan Tipe Data Int8 ([8] dan [9]):**\n",
        "   - `tensor.type(torch.int8)` digunakan untuk membuat tensor baru dengan tipe data int8 dari tensor asli `tensor`."
      ],
      "metadata": {
        "id": "ih3Vr5OP-GIn"
      }
    },
    {
      "cell_type": "markdown",
      "metadata": {
        "id": "7CkCtAYmGsHY"
      },
      "source": [
        "### Reshaping, stacking, squeezing and unsqueezing\n",
        "Di PyTorch, operasi seperti reshaping, stacking, squeezing, dan unsqueezing adalah metode penting untuk memanipulasi dimensi dan bentuk tensor. Berikut adalah penjelasan singkat untuk setiap operasi tersebut:\n",
        "\n",
        "1. **Reshaping:**\n",
        "   - Reshaping adalah proses mengubah bentuk (shape) dari suatu tensor. Dalam PyTorch, operasi `view` dapat digunakan untuk melakukan reshaping. Misalnya, jika Anda memiliki tensor 2D dengan ukuran (m, n), Anda dapat menggunakan `view` untuk mengubahnya menjadi tensor 1D atau tensor 2D dengan ukuran lainnya.\n",
        "\n",
        "2. **Stacking:**\n",
        "   - Stacking mengacu pada penggabungan beberapa tensor menjadi satu tensor. Operasi `torch.stack` dapat digunakan untuk menumpuk tensor-tensor tersebut. Ini dapat dilakukan baik pada dimensi yang sudah ada maupun dimensi baru.\n",
        "\n",
        "3. **Squeezing:**\n",
        "   - Squeezing digunakan untuk mengurangkan dimensi dengan ukuran 1 dari suatu tensor. Misalnya, jika Anda memiliki tensor dengan dimensi (1, m, n), Anda dapat menggunakan `squeeze` untuk menghilangkan dimensi yang memiliki ukuran 1.\n",
        "\n",
        "4. **Unsqueezing:**\n",
        "   - Unsqueezing adalah kebalikan dari squeezing. Ini digunakan untuk menambahkan dimensi dengan ukuran 1 pada suatu tensor. Operasi `unsqueeze` dapat digunakan untuk ini.\n",
        "\n",
        "Operasi-operasi ini sangat berguna ketika Anda bekerja dengan model deep learning dan perlu memanipulasi bentuk tensor untuk keperluan seperti pengolahan data, konstruksi model, atau operasi matematika tertentu."
      ]
    },
    {
      "cell_type": "code",
      "execution_count": null,
      "metadata": {
        "colab": {
          "base_uri": "https://localhost:8080/"
        },
        "id": "EYjRTLOzG4Ev",
        "outputId": "cbecdbc9-752c-432a-d93b-c3fe4d600d4d"
      },
      "outputs": [
        {
          "output_type": "execute_result",
          "data": {
            "text/plain": [
              "(tensor([1., 2., 3., 4., 5., 6., 7.]), torch.Size([7]))"
            ]
          },
          "metadata": {},
          "execution_count": 50
        }
      ],
      "source": [
        "# Create a tensor\n",
        "import torch\n",
        "x = torch.arange(1., 8.)\n",
        "x, x.shape"
      ]
    },
    {
      "cell_type": "code",
      "execution_count": null,
      "metadata": {
        "colab": {
          "base_uri": "https://localhost:8080/"
        },
        "id": "US4WjpQ3SG-8",
        "outputId": "895a6bac-1a8e-4d08-e2c3-d198ed10ea2c"
      },
      "outputs": [
        {
          "output_type": "execute_result",
          "data": {
            "text/plain": [
              "(tensor([[1., 2., 3., 4., 5., 6., 7.]]), torch.Size([1, 7]))"
            ]
          },
          "metadata": {},
          "execution_count": 51
        }
      ],
      "source": [
        "# Add an extra dimension\n",
        "x_reshaped = x.reshape(1, 7)\n",
        "x_reshaped, x_reshaped.shape"
      ]
    },
    {
      "cell_type": "code",
      "execution_count": null,
      "metadata": {
        "colab": {
          "base_uri": "https://localhost:8080/"
        },
        "id": "WDN2BNe5TGfB",
        "outputId": "ac571625-7ab4-44fc-e8fd-2cae614833ac"
      },
      "outputs": [
        {
          "output_type": "execute_result",
          "data": {
            "text/plain": [
              "(tensor([[1., 2., 3., 4., 5., 6., 7.]]), torch.Size([1, 7]))"
            ]
          },
          "metadata": {},
          "execution_count": 52
        }
      ],
      "source": [
        "# Change view (keeps same data as original but changes view)\n",
        "# See more: https://stackoverflow.com/a/54507446/7900723\n",
        "z = x.view(1, 7)\n",
        "z, z.shape"
      ]
    },
    {
      "cell_type": "code",
      "execution_count": null,
      "metadata": {
        "colab": {
          "base_uri": "https://localhost:8080/"
        },
        "id": "2DxURVvXTGfC",
        "outputId": "46dbb52b-8850-4756-a4a6-773902cc81d6"
      },
      "outputs": [
        {
          "output_type": "execute_result",
          "data": {
            "text/plain": [
              "(tensor([[5., 2., 3., 4., 5., 6., 7.]]), tensor([5., 2., 3., 4., 5., 6., 7.]))"
            ]
          },
          "metadata": {},
          "execution_count": 53
        }
      ],
      "source": [
        "# Changing z changes x\n",
        "z[:, 0] = 5\n",
        "z, x"
      ]
    },
    {
      "cell_type": "code",
      "execution_count": null,
      "metadata": {
        "colab": {
          "base_uri": "https://localhost:8080/"
        },
        "id": "pX5Adf3ORiTK",
        "outputId": "14e52aed-7530-4d07-c429-7d055151bcf8"
      },
      "outputs": [
        {
          "output_type": "execute_result",
          "data": {
            "text/plain": [
              "tensor([[5., 2., 3., 4., 5., 6., 7.],\n",
              "        [5., 2., 3., 4., 5., 6., 7.],\n",
              "        [5., 2., 3., 4., 5., 6., 7.],\n",
              "        [5., 2., 3., 4., 5., 6., 7.]])"
            ]
          },
          "metadata": {},
          "execution_count": 54
        }
      ],
      "source": [
        "# Stack tensors on top of each other\n",
        "x_stacked = torch.stack([x, x, x, x], dim=0) # try changing dim to dim=1 and see what happens\n",
        "x_stacked"
      ]
    },
    {
      "cell_type": "code",
      "execution_count": null,
      "metadata": {
        "colab": {
          "base_uri": "https://localhost:8080/"
        },
        "id": "w2Y2HEoDRxJZ",
        "outputId": "22dcd642-b61b-4a12-bb0c-a0bd860d89ee"
      },
      "outputs": [
        {
          "output_type": "stream",
          "name": "stdout",
          "text": [
            "Previous tensor: tensor([[5., 2., 3., 4., 5., 6., 7.]])\n",
            "Previous shape: torch.Size([1, 7])\n",
            "\n",
            "New tensor: tensor([5., 2., 3., 4., 5., 6., 7.])\n",
            "New shape: torch.Size([7])\n"
          ]
        }
      ],
      "source": [
        "# Menampilkan informasi tensor sebelumnya dan menghapus dimensi tambahan dari x_reshaped\n",
        "print(f\"Previous tensor: {x_reshaped}\")\n",
        "print(f\"Previous shape: {x_reshaped.shape}\")\n",
        "x_squeezed = x_reshaped.squeeze()\n",
        "print(f\"\\nNew tensor: {x_squeezed}\")\n",
        "print(f\"New shape: {x_squeezed.shape}\")"
      ]
    },
    {
      "cell_type": "code",
      "execution_count": null,
      "metadata": {
        "colab": {
          "base_uri": "https://localhost:8080/"
        },
        "id": "CUC-DEEwSYv7",
        "outputId": "54868ec1-fc40-4c75-fea0-97d44dfc6795"
      },
      "outputs": [
        {
          "output_type": "stream",
          "name": "stdout",
          "text": [
            "Previous tensor: tensor([5., 2., 3., 4., 5., 6., 7.])\n",
            "Previous shape: torch.Size([7])\n",
            "\n",
            "New tensor: tensor([[5., 2., 3., 4., 5., 6., 7.]])\n",
            "New shape: torch.Size([1, 7])\n"
          ]
        }
      ],
      "source": [
        "# Menambah dimensi tambahan dengan unsqueeze\n",
        "print(f\"Previous tensor: {x_squeezed}\")\n",
        "print(f\"Previous shape: {x_squeezed.shape}\")\n",
        "x_unsqueezed = x_squeezed.unsqueeze(dim=0)\n",
        "print(f\"\\nNew tensor: {x_unsqueezed}\")\n",
        "print(f\"New shape: {x_unsqueezed.shape}\")"
      ]
    },
    {
      "cell_type": "code",
      "execution_count": null,
      "metadata": {
        "colab": {
          "base_uri": "https://localhost:8080/"
        },
        "id": "fCRGCX8DTGfC",
        "outputId": "e3cc9241-ae0f-44e5-91ed-8e5b98e0b8b5"
      },
      "outputs": [
        {
          "output_type": "stream",
          "name": "stdout",
          "text": [
            "Previous shape: torch.Size([224, 224, 3])\n",
            "New shape: torch.Size([3, 224, 224])\n"
          ]
        }
      ],
      "source": [
        "# Membuat tensor dengan bentuk tertentu, dan mengubah urutan sumbu\n",
        "x_original = torch.rand(size=(224, 224, 3))\n",
        "x_permuted = x_original.permute(2, 0, 1)\n",
        "\n",
        "print(f\"Previous shape: {x_original.shape}\")\n",
        "print(f\"New shape: {x_permuted.shape}\")"
      ]
    },
    {
      "cell_type": "markdown",
      "source": [
        "**Catatan:**\n",
        "- Operasi seperti `reshape`, `view`, `squeeze`, dan `unsqueeze` dapat digunakan untuk mengubah bentuk dan dimensi tensor.\n",
        "- Fungsi-fungsi ini berguna dalam proses persiapan data untuk model machine learning."
      ],
      "metadata": {
        "id": "4r8X0VP4_nng"
      }
    },
    {
      "cell_type": "markdown",
      "metadata": {
        "id": "nEPqVL7fTGfC"
      },
      "source": [
        "## Indexing (selecting data from tensors)\n",
        "\n",
        "Dalam konteks PyTorch, indexing merujuk pada proses memilih atau mengakses elemen-elemen tertentu dari tensor. PyTorch menggunakan konsep indexing yang mirip dengan NumPy, yang memungkinkan Anda untuk memanipulasi dan mengakses data dalam tensor dengan cara yang fleksibel. Berikut adalah beberapa konsep dasar terkait indexing pada PyTorch:\n",
        "\n",
        "1. **Indexing dengan Angka Bulat:**\n",
        "   - Anda dapat menggunakan angka bulat untuk mengakses elemen tertentu dari tensor. Misalnya, jika `x` adalah tensor, `x[0]` akan mengakses elemen pertama, dan `x[1]` akan mengakses elemen kedua.\n",
        "\n",
        "2. **Slicing:**\n",
        "   - Seperti NumPy, PyTorch mendukung slicing untuk memperoleh sebagian dari tensor. Misalnya, `x[1:4]` akan memberikan sebagian tensor dari indeks 1 hingga 3.\n",
        "\n",
        "3. **Indexing Multidimensional:**\n",
        "   - Untuk tensor multidimensional, Anda dapat menggunakan indeks terpisah untuk setiap dimensi. Misalnya, `x[0, 1]` akan mengakses elemen di baris pertama dan kolom kedua.\n",
        "\n",
        "4. **Indexing dengan Boolean Masks:**\n",
        "   - Anda dapat menggunakan tensor boolean sebagai mask untuk memilih elemen-elemen tertentu. Misalnya, `x[x > 0]` akan menghasilkan tensor yang hanya berisi elemen-elemen yang positif.\n",
        "\n",
        "5. **Indexing dengan List atau Tensor Indeks:**\n",
        "   - Anda dapat menggunakan list atau tensor sebagai indeks untuk memilih elemen-elemen tertentu. Misalnya, `indices = [0, 2, 4]` dan kemudian `x[indices]` akan menghasilkan tensor dengan elemen di indeks 0, 2, dan 4.\n"
      ]
    },
    {
      "cell_type": "code",
      "execution_count": null,
      "metadata": {
        "colab": {
          "base_uri": "https://localhost:8080/"
        },
        "id": "oSXzdxCQTGfD",
        "outputId": "e7a6833b-8896-442c-9275-ccbbf2dbfa85"
      },
      "outputs": [
        {
          "output_type": "execute_result",
          "data": {
            "text/plain": [
              "(tensor([[[1, 2, 3],\n",
              "          [4, 5, 6],\n",
              "          [7, 8, 9]]]),\n",
              " torch.Size([1, 3, 3]))"
            ]
          },
          "metadata": {},
          "execution_count": 58
        }
      ],
      "source": [
        "# Create a tensor\n",
        "import torch\n",
        "x = torch.arange(1, 10).reshape(1, 3, 3)\n",
        "x, x.shape"
      ]
    },
    {
      "cell_type": "code",
      "execution_count": null,
      "metadata": {
        "colab": {
          "base_uri": "https://localhost:8080/"
        },
        "id": "zv_Z3IAzTGfD",
        "outputId": "1a37d62b-b31d-4687-fe79-bccd9994b638"
      },
      "outputs": [
        {
          "output_type": "stream",
          "name": "stdout",
          "text": [
            "First square bracket:\n",
            "tensor([[1, 2, 3],\n",
            "        [4, 5, 6],\n",
            "        [7, 8, 9]])\n",
            "Second square bracket: tensor([1, 2, 3])\n",
            "Third square bracket: 1\n"
          ]
        }
      ],
      "source": [
        "# Let's index bracket by bracket\n",
        "print(f\"First square bracket:\\n{x[0]}\")\n",
        "print(f\"Second square bracket: {x[0][0]}\")\n",
        "print(f\"Third square bracket: {x[0][0][0]}\")"
      ]
    },
    {
      "cell_type": "code",
      "execution_count": null,
      "metadata": {
        "colab": {
          "base_uri": "https://localhost:8080/"
        },
        "id": "gCT09pqeTGfD",
        "outputId": "6e09f7c1-8ed5-4d68-8589-f98868265f1a"
      },
      "outputs": [
        {
          "output_type": "execute_result",
          "data": {
            "text/plain": [
              "tensor([[1, 2, 3]])"
            ]
          },
          "metadata": {},
          "execution_count": 60
        }
      ],
      "source": [
        "# Mendapatkan semua nilai dari dimensi ke-0 dan indeks ke-0 dari dimensi ke-1\n",
        "x[:, 0]"
      ]
    },
    {
      "cell_type": "code",
      "execution_count": null,
      "metadata": {
        "colab": {
          "base_uri": "https://localhost:8080/"
        },
        "id": "dwDx_gMsTGfD",
        "outputId": "c3022c9d-591e-4922-cb53-3cb5ff653d68"
      },
      "outputs": [
        {
          "output_type": "execute_result",
          "data": {
            "text/plain": [
              "tensor([[2, 5, 8]])"
            ]
          },
          "metadata": {},
          "execution_count": 61
        }
      ],
      "source": [
        "# Mendapatkan semua nilai dari dimensi ke-0 dan indeks ke-1 dari dimensi ke-2\n",
        "x[:, :, 1]"
      ]
    },
    {
      "cell_type": "code",
      "execution_count": null,
      "metadata": {
        "colab": {
          "base_uri": "https://localhost:8080/"
        },
        "id": "xiw3_1E3TGfD",
        "outputId": "937d778b-5631-4b85-898e-a27474ffd87b"
      },
      "outputs": [
        {
          "output_type": "execute_result",
          "data": {
            "text/plain": [
              "tensor([5])"
            ]
          },
          "metadata": {},
          "execution_count": 62
        }
      ],
      "source": [
        "# Mendapatkan semua nilai dari dimensi ke-0 dan hanya nilai indeks ke-1 dari dimensi ke-1 dan ke-2\n",
        "x[:, 1, 1]"
      ]
    },
    {
      "cell_type": "code",
      "execution_count": null,
      "metadata": {
        "colab": {
          "base_uri": "https://localhost:8080/"
        },
        "id": "XFVEgrKhTGfD",
        "outputId": "815a990d-745d-4847-aa55-feff6cd22594"
      },
      "outputs": [
        {
          "output_type": "execute_result",
          "data": {
            "text/plain": [
              "tensor([1, 2, 3])"
            ]
          },
          "metadata": {},
          "execution_count": 63
        }
      ],
      "source": [
        "# Mendapatkan indeks ke-0 dari dimensi ke-0 dan ke-1 serta semua nilai dari dimensi ke-2\n",
        "x[0, 0, :]  # sama dengan x[0][0]"
      ]
    },
    {
      "cell_type": "markdown",
      "source": [
        "**Catatan:**\n",
        "- Indeksing pada tensor dilakukan dengan menggunakan tanda bracket `[]` untuk mengakses nilai pada dimensi yang diinginkan.\n",
        "- Memahami indeksing pada tensor penting untuk manipulasi dan pemrosesan data menggunakan PyTorch."
      ],
      "metadata": {
        "id": "M_fqEhiLGxU1"
      }
    },
    {
      "cell_type": "markdown",
      "metadata": {
        "id": "h8ZaW0Bq7rCm"
      },
      "source": [
        "## PyTorch tensors & NumPy\n",
        "\n"
      ]
    },
    {
      "cell_type": "code",
      "execution_count": null,
      "metadata": {
        "colab": {
          "base_uri": "https://localhost:8080/"
        },
        "id": "yDrDCnvY7rKS",
        "outputId": "825961a2-cca6-4fed-e09e-e822c13d13a0"
      },
      "outputs": [
        {
          "output_type": "execute_result",
          "data": {
            "text/plain": [
              "(array([1., 2., 3., 4., 5., 6., 7.]),\n",
              " tensor([1., 2., 3., 4., 5., 6., 7.], dtype=torch.float64))"
            ]
          },
          "metadata": {},
          "execution_count": 64
        }
      ],
      "source": [
        "# Membuat array NumPy dan mengonversinya menjadi tensor\n",
        "import torch\n",
        "import numpy as np\n",
        "array = np.arange(1.0, 8.0) # Membuat array NumPy dari 1.0 hingga 7.0\n",
        "tensor = torch.from_numpy(array) # Mengonversi array NumPy menjadi tensor\n",
        "array, tensor"
      ]
    },
    {
      "cell_type": "code",
      "execution_count": null,
      "metadata": {
        "colab": {
          "base_uri": "https://localhost:8080/"
        },
        "id": "ovwl7VCREv8L",
        "outputId": "afcebce2-c2e0-4539-c91f-a66a68251815"
      },
      "outputs": [
        {
          "output_type": "execute_result",
          "data": {
            "text/plain": [
              "(array([2., 3., 4., 5., 6., 7., 8.]),\n",
              " tensor([1., 2., 3., 4., 5., 6., 7.], dtype=torch.float64))"
            ]
          },
          "metadata": {},
          "execution_count": 65
        }
      ],
      "source": [
        "# Mengubah array NumPy, tetapi tetap menggunakan tensor yang sama\n",
        "array = array + 1\n",
        "array, tensor"
      ]
    },
    {
      "cell_type": "code",
      "execution_count": null,
      "metadata": {
        "colab": {
          "base_uri": "https://localhost:8080/"
        },
        "id": "xw_7ZyVaTKxQ",
        "outputId": "be432ffd-dc8e-4c79-aef0-c8ada9b27731"
      },
      "outputs": [
        {
          "output_type": "execute_result",
          "data": {
            "text/plain": [
              "(tensor([1., 1., 1., 1., 1., 1., 1.]),\n",
              " array([1., 1., 1., 1., 1., 1., 1.], dtype=float32))"
            ]
          },
          "metadata": {},
          "execution_count": 66
        }
      ],
      "source": [
        "# Mengonversi tensor menjadi array NumPy\n",
        "tensor = torch.ones(7) # Membuat tensor yang berisi tujuh elemen dengan nilai satu dan tipe data float32\n",
        "numpy_tensor = tensor.numpy() # Mengonversi tensor menjadi array NumPy\n",
        "tensor, numpy_tensor"
      ]
    },
    {
      "cell_type": "code",
      "execution_count": null,
      "metadata": {
        "colab": {
          "base_uri": "https://localhost:8080/"
        },
        "id": "mMp6ZSkET4_Y",
        "outputId": "8328ca5b-d949-4db8-9f13-cf6522798831"
      },
      "outputs": [
        {
          "output_type": "execute_result",
          "data": {
            "text/plain": [
              "(tensor([2., 2., 2., 2., 2., 2., 2.]),\n",
              " array([1., 1., 1., 1., 1., 1., 1.], dtype=float32))"
            ]
          },
          "metadata": {},
          "execution_count": 67
        }
      ],
      "source": [
        "# Mengubah tensor, tetapi tetap menggunakan array NumPy yang sama\n",
        "tensor = tensor + 1\n",
        "tensor, numpy_tensor"
      ]
    },
    {
      "cell_type": "markdown",
      "source": [
        "**Penjelasan:**\n",
        "1. **Membuat Array NumPy dan Mengonversi Menjadi Tensor ([3] dan [4]):**\n",
        "   - `np.arange(1.0, 8.0)` digunakan untuk membuat array NumPy dari 1.0 hingga 7.0.\n",
        "   - `torch.from_numpy(array)` digunakan untuk mengonversi array NumPy menjadi tensor PyTorch.\n",
        "\n",
        "2. **Mengubah Array NumPy Tetapi Tetap Menggunakan Tensor ([6] dan [7]):**\n",
        "   - `array = array + 1` digunakan untuk menambahkan 1 ke setiap elemen array NumPy.\n",
        "   - Meskipun array NumPy diubah, tensor yang dibuat dari array tersebut tetap terpengaruh, karena tensor dan array berbagi memori yang sama.\n",
        "\n",
        "3. **Mengonversi Tensor Menjadi Array NumPy ([9] dan [10]):**\n",
        "   - `torch.ones(7)` digunakan untuk membuat tensor yang berisi tujuh elemen dengan nilai satu dan tipe data float32.\n",
        "   - `tensor.numpy()` digunakan untuk mengonversi tensor PyTorch menjadi array NumPy.\n",
        "\n",
        "4. **Mengubah Tensor Tetapi Tetap Menggunakan Array NumPy yang Sama ([12] dan [13]):**\n",
        "   - `tensor = tensor + 1` digunakan untuk menambahkan 1 ke setiap elemen tensor.\n",
        "   - Meskipun tensor diubah, array NumPy yang dibuat dari tensor tersebut tetap terpengaruh, karena tensor dan array berbagi memori yang sama.\n",
        "\n",
        "**Catatan:**\n",
        "- Menggunakan `torch.from_numpy()` atau `tensor.numpy()` memungkinkan berbagi memori antara tensor PyTorch dan array NumPy, sehingga perubahan pada satu entitas akan tercermin pada entitas lainnya.\n",
        "- Perlu diperhatikan bahwa tipe data array NumPy dan tensor PyTorch perlu kompatibel agar konversi dapat dilakukan."
      ],
      "metadata": {
        "id": "h-Stx7kFH7Ne"
      }
    },
    {
      "cell_type": "markdown",
      "metadata": {
        "id": "7gU3ubCrUkI-"
      },
      "source": [
        "## Reproducibility (trying to take the random out of random)\n",
        "\n"
      ]
    },
    {
      "cell_type": "code",
      "execution_count": null,
      "metadata": {
        "colab": {
          "base_uri": "https://localhost:8080/"
        },
        "id": "eSwxnwEbTGfF",
        "outputId": "ee70c8e4-6119-43b3-9e87-c619d53873a8"
      },
      "outputs": [
        {
          "output_type": "stream",
          "name": "stdout",
          "text": [
            "Tensor A:\n",
            "tensor([[0.8016, 0.3649, 0.6286, 0.9663],\n",
            "        [0.7687, 0.4566, 0.5745, 0.9200],\n",
            "        [0.3230, 0.8613, 0.0919, 0.3102]])\n",
            "\n",
            "Tensor B:\n",
            "tensor([[0.9536, 0.6002, 0.0351, 0.6826],\n",
            "        [0.3743, 0.5220, 0.1336, 0.9666],\n",
            "        [0.9754, 0.8474, 0.8988, 0.1105]])\n",
            "\n",
            "Does Tensor A equal Tensor B? (anywhere)\n"
          ]
        },
        {
          "output_type": "execute_result",
          "data": {
            "text/plain": [
              "tensor([[False, False, False, False],\n",
              "        [False, False, False, False],\n",
              "        [False, False, False, False]])"
            ]
          },
          "metadata": {},
          "execution_count": 68
        }
      ],
      "source": [
        "import torch\n",
        "# Membuat dua tensor acak\n",
        "random_tensor_A = torch.rand(3, 4)  # Membuat tensor acak A berukuran 3x4\n",
        "random_tensor_B = torch.rand(3, 4)  # Membuat tensor acak B berukuran 3x4\n",
        "\n",
        "print(f\"Tensor A:\\n{random_tensor_A}\\n\")  # Mencetak tensor A\n",
        "print(f\"Tensor B:\\n{random_tensor_B}\\n\")  # Mencetak tensor B\n",
        "print(f\"Does Tensor A equal Tensor B? (anywhere)\")\n",
        "random_tensor_A == random_tensor_B  # Memeriksa apakah nilai elemen di Tensor A sama dengan Tensor B"
      ]
    },
    {
      "cell_type": "code",
      "execution_count": null,
      "metadata": {
        "colab": {
          "base_uri": "https://localhost:8080/"
        },
        "id": "sB6d1GfYTGfF",
        "outputId": "9f490d31-45a5-462e-ec6f-9a8d9106112d"
      },
      "outputs": [
        {
          "output_type": "stream",
          "name": "stdout",
          "text": [
            "Tensor C:\n",
            "tensor([[0.8823, 0.9150, 0.3829, 0.9593],\n",
            "        [0.3904, 0.6009, 0.2566, 0.7936],\n",
            "        [0.9408, 0.1332, 0.9346, 0.5936]])\n",
            "\n",
            "Tensor D:\n",
            "tensor([[0.8823, 0.9150, 0.3829, 0.9593],\n",
            "        [0.3904, 0.6009, 0.2566, 0.7936],\n",
            "        [0.9408, 0.1332, 0.9346, 0.5936]])\n",
            "\n",
            "Does Tensor C equal Tensor D? (anywhere)\n"
          ]
        },
        {
          "output_type": "execute_result",
          "data": {
            "text/plain": [
              "tensor([[True, True, True, True],\n",
              "        [True, True, True, True],\n",
              "        [True, True, True, True]])"
            ]
          },
          "metadata": {},
          "execution_count": 69
        }
      ],
      "source": [
        "import torch\n",
        "import random\n",
        "# Set the random seed\n",
        "RANDOM_SEED=42  # Menetapkan seed acak untuk reproduktibilitas\n",
        "torch.manual_seed(seed=RANDOM_SEED)  # Menetapkan seed untuk generator angka acak PyTorch\n",
        "random_tensor_C = torch.rand(3, 4)  # Membuat tensor acak C berukuran 3x4\n",
        "\n",
        "# Harus mereset seed setiap kali rand() baru dipanggil\n",
        "# Tanpa ini, tensor_D akan berbeda dari tensor_C\n",
        "torch.random.manual_seed(seed=RANDOM_SEED)  # Menetapkan seed untuk generator angka acak PyTorch\n",
        "random_tensor_D = torch.rand(3, 4)  # Membuat tensor acak D berukuran 3x4\n",
        "\n",
        "print(f\"Tensor C:\\n{random_tensor_C}\\n\")  # Mencetak tensor C\n",
        "print(f\"Tensor D:\\n{random_tensor_D}\\n\")  # Mencetak tensor D\n",
        "print(f\"Does Tensor C equal Tensor D? (anywhere)\")\n",
        "random_tensor_C == random_tensor_D  # Memeriksa apakah nilai elemen di Tensor C sama dengan Tensor D"
      ]
    },
    {
      "cell_type": "markdown",
      "source": [
        "**Penjelasan:**\n",
        "1. **Membuat Dua Tensor Acak ([3] hingga [7]):**\n",
        "   - `torch.rand(3, 4)` digunakan untuk membuat dua tensor acak (`random_tensor_A` dan `random_tensor_B`) dengan ukuran 3x4.\n",
        "\n",
        "2. **Pembandingan Elemen Tensor A dan B ([9]):**\n",
        "   - `random_tensor_A == random_tensor_B` digunakan untuk memeriksa apakah nilai elemen di `random_tensor_A` sama dengan nilai elemen di `random_tensor_B`. Hasilnya berupa tensor Boolean yang menunjukkan kecocokan elemen.\n",
        "\n",
        "3. **Mengatur Seed Acak untuk Reproduktibilitas ([11] hingga [18]):**\n",
        "   - `RANDOM_SEED=42` digunakan sebagai seed acak untuk memastikan hasil yang dapat direproduksi.\n",
        "   - `torch.manual_seed(seed=RANDOM_SEED)` digunakan untuk menetapkan seed untuk generator angka acak PyTorch.\n",
        "   - `torch.random.manual_seed(seed=RANDOM_SEED)` digunakan untuk menetapkan seed yang sama pada generator acak PyTorch lainnya.\n",
        "   - `torch.rand(3, 4)` dan `torch.rand(3, 4)` digunakan untuk membuat dua tensor acak (`random_tensor_C` dan `random_tensor_D`) dengan ukuran yang sama.\n",
        "  \n",
        "4. **Pembandingan Elemen Tensor C dan D ([20]):**\n",
        "   - `random_tensor_C == random_tensor_D` digunakan untuk memeriksa apakah nilai elemen di `random_tensor_C` sama dengan nilai elemen di `random_tensor_D`. Hasilnya berupa tensor Boolean yang menunjukkan kecocokan elemen.\n",
        "\n",
        "**Catatan:**\n",
        "- Menggunakan seed acak memastikan bahwa generator angka acak memberikan nilai yang sama setiap kali dijalankan, sehingga hasil dapat direproduksi.\n",
        "- Seed yang berbeda akan menghasilkan nilai acak yang berbeda, dan seed yang sama akan menghasilkan nilai acak yang sama."
      ],
      "metadata": {
        "id": "cF3VfLDeJe0d"
      }
    },
    {
      "cell_type": "markdown",
      "metadata": {
        "id": "hxIIM7t27rQ-"
      },
      "source": [
        "## Running tensors on GPUs (and making faster computations)\n",
        "\n",
        "Algoritma pembelajaran mendalam memerlukan banyak operasi numerik.\n",
        "\n",
        "Dan secara default operasi ini sering dilakukan pada CPU (unit pengolah komputer).\n",
        "\n",
        "Namun, ada perangkat keras umum lainnya yang disebut GPU (unit pemrosesan grafis), yang seringkali jauh lebih cepat dalam melakukan jenis operasi tertentu yang dibutuhkan jaringan saraf (perkalian matriks) dibandingkan CPU.\n",
        "\n",
        "Komputer Anda mungkin memilikinya.\n",
        "\n",
        "Jika demikian, Anda harus menggunakannya kapan pun Anda bisa untuk melatih jaringan saraf karena kemungkinan besar ini akan mempercepat waktu pelatihan secara dramatis.\n",
        "\n",
        "Ada beberapa cara untuk pertama mendapatkan akses ke GPU dan kedua membuat PyTorch menggunakan GPU tersebut.\n",
        "\n",
        "\n"
      ]
    },
    {
      "cell_type": "markdown",
      "metadata": {
        "id": "0UiR6QpoYQH_"
      },
      "source": [
        "\n",
        "### 1. Getting a GPU\n",
        "\n",
        "\n"
      ]
    },
    {
      "cell_type": "code",
      "execution_count": null,
      "metadata": {
        "colab": {
          "base_uri": "https://localhost:8080/"
        },
        "id": "vEMcO-9zYc-w",
        "outputId": "c6d68702-5603-4f62-ffb4-87130c85f349"
      },
      "outputs": [
        {
          "output_type": "stream",
          "name": "stdout",
          "text": [
            "Thu Jan  4 14:13:18 2024       \n",
            "+---------------------------------------------------------------------------------------+\n",
            "| NVIDIA-SMI 535.104.05             Driver Version: 535.104.05   CUDA Version: 12.2     |\n",
            "|-----------------------------------------+----------------------+----------------------+\n",
            "| GPU  Name                 Persistence-M | Bus-Id        Disp.A | Volatile Uncorr. ECC |\n",
            "| Fan  Temp   Perf          Pwr:Usage/Cap |         Memory-Usage | GPU-Util  Compute M. |\n",
            "|                                         |                      |               MIG M. |\n",
            "|=========================================+======================+======================|\n",
            "|   0  Tesla T4                       Off | 00000000:00:04.0 Off |                    0 |\n",
            "| N/A   35C    P8               9W /  70W |      0MiB / 15360MiB |      0%      Default |\n",
            "|                                         |                      |                  N/A |\n",
            "+-----------------------------------------+----------------------+----------------------+\n",
            "                                                                                         \n",
            "+---------------------------------------------------------------------------------------+\n",
            "| Processes:                                                                            |\n",
            "|  GPU   GI   CI        PID   Type   Process name                            GPU Memory |\n",
            "|        ID   ID                                                             Usage      |\n",
            "|=======================================================================================|\n",
            "|  No running processes found                                                           |\n",
            "+---------------------------------------------------------------------------------------+\n"
          ]
        }
      ],
      "source": [
        "!nvidia-smi"
      ]
    },
    {
      "cell_type": "markdown",
      "source": [
        "\n",
        "Potongan kode di atas menunjukkan langkah-langkah untuk menggunakan GPU dengan PyTorch. Pada bagian pertama, [70], digunakan perintah !nvidia-smi untuk menampilkan informasi tentang GPU yang tersedia. Outputnya menunjukkan adanya GPU Tesla T4 yang dapat digunakan."
      ],
      "metadata": {
        "id": "lZzPhjbyLs_N"
      }
    },
    {
      "cell_type": "markdown",
      "metadata": {
        "id": "UvibZ6e0YcDk"
      },
      "source": [
        "\n",
        "\n",
        "### 2. Getting PyTorch to run on the GPU\n",
        "\n",
        "\n"
      ]
    },
    {
      "cell_type": "code",
      "execution_count": null,
      "metadata": {
        "colab": {
          "base_uri": "https://localhost:8080/"
        },
        "id": "OweDLgwjEvZ2",
        "outputId": "59b9e790-2a14-477f-a435-7b6329d5d791"
      },
      "outputs": [
        {
          "output_type": "execute_result",
          "data": {
            "text/plain": [
              "True"
            ]
          },
          "metadata": {},
          "execution_count": 71
        }
      ],
      "source": [
        "# Check for GPU\n",
        "import torch\n",
        "torch.cuda.is_available()"
      ]
    },
    {
      "cell_type": "code",
      "execution_count": null,
      "metadata": {
        "colab": {
          "base_uri": "https://localhost:8080/",
          "height": 35
        },
        "id": "j92HBCKB7rYa",
        "outputId": "ae4bdff3-be18-4f30-ee4e-319d29617c3c"
      },
      "outputs": [
        {
          "output_type": "execute_result",
          "data": {
            "text/plain": [
              "'cuda'"
            ],
            "application/vnd.google.colaboratory.intrinsic+json": {
              "type": "string"
            }
          },
          "metadata": {},
          "execution_count": 72
        }
      ],
      "source": [
        "# Set device type\n",
        "device = \"cuda\" if torch.cuda.is_available() else \"cpu\"\n",
        "device"
      ]
    },
    {
      "cell_type": "code",
      "execution_count": null,
      "metadata": {
        "colab": {
          "base_uri": "https://localhost:8080/"
        },
        "id": "MArsn0DFTGfG",
        "outputId": "182224d3-18ce-47c5-d901-560d486e6802"
      },
      "outputs": [
        {
          "output_type": "execute_result",
          "data": {
            "text/plain": [
              "1"
            ]
          },
          "metadata": {},
          "execution_count": 73
        }
      ],
      "source": [
        "# Count number of devices\n",
        "torch.cuda.device_count()"
      ]
    },
    {
      "cell_type": "markdown",
      "source": [
        "Berikutnya, [71], kode Python menggunakan perpustakaan PyTorch untuk memeriksa ketersediaan GPU dengan torch.cuda.is_available(). Hasilnya adalah True, menandakan bahwa GPU dapat digunakan. Kemudian, [72], sebuah variabel device ditetapkan sebagai \"cuda\" jika GPU tersedia, dan \"cpu\" jika tidak."
      ],
      "metadata": {
        "id": "DwA2SKaELxBg"
      }
    },
    {
      "cell_type": "markdown",
      "metadata": {
        "id": "XqQLcuj68OA-"
      },
      "source": [
        "### 3. Putting tensors (and models) on the GPU\n",
        "\n"
      ]
    },
    {
      "cell_type": "code",
      "execution_count": null,
      "metadata": {
        "colab": {
          "base_uri": "https://localhost:8080/"
        },
        "id": "FhI3srFXEHfP",
        "outputId": "1cc51726-a55a-4715-9625-c2486ae9e5d3"
      },
      "outputs": [
        {
          "output_type": "stream",
          "name": "stdout",
          "text": [
            "tensor([1, 2, 3]) cpu\n"
          ]
        },
        {
          "output_type": "execute_result",
          "data": {
            "text/plain": [
              "tensor([1, 2, 3], device='cuda:0')"
            ]
          },
          "metadata": {},
          "execution_count": 74
        }
      ],
      "source": [
        "# Create tensor (default on CPU)\n",
        "tensor = torch.tensor([1, 2, 3])\n",
        "\n",
        "# Tensor not on GPU\n",
        "print(tensor, tensor.device)\n",
        "\n",
        "# Move tensor to GPU (if available)\n",
        "tensor_on_gpu = tensor.to(device)\n",
        "tensor_on_gpu"
      ]
    },
    {
      "cell_type": "markdown",
      "source": [
        "Pada bagian [73], dilakukan pengecekan jumlah perangkat GPU dengan torch.cuda.device_count(), dan outputnya menunjukkan satu perangkat GPU yang terdeteksi.\n",
        "\n",
        "\n",
        "Selanjutnya, [74], sebuah tensor PyTorch dibuat secara default di CPU. Kemudian, dengan menggunakan metode .to(device), tensor tersebut dipindahkan ke GPU jika tersedia. Hasilnya adalah tensor yang sekarang berada di GPU, dan perangkatnya ditampilkan."
      ],
      "metadata": {
        "id": "_NkNhrIzL1E3"
      }
    },
    {
      "cell_type": "markdown",
      "metadata": {
        "id": "4puyUX4Bci5D"
      },
      "source": [
        "### 4. Moving tensors back to the CPU\n"
      ]
    },
    {
      "cell_type": "code",
      "execution_count": null,
      "metadata": {
        "id": "3ChSLJgPTGfG"
      },
      "outputs": [],
      "source": [
        "import torch\n",
        "\n",
        "# Assuming tensor_on_gpu is your tensor on GPU\n",
        "tensor_on_gpu = tensor_on_gpu.to('cpu')  # Move tensor from GPU to CPU\n",
        "numpy_array = tensor_on_gpu.numpy()\n",
        "\n",
        "# Now you can use numpy_array as a NumPy array\n",
        "numpy_array = tensor_on_gpu.cpu().numpy()\n"
      ]
    },
    {
      "cell_type": "code",
      "execution_count": null,
      "metadata": {
        "colab": {
          "base_uri": "https://localhost:8080/"
        },
        "id": "gN15s-NdTGfG",
        "outputId": "bd060dfa-ebda-49d8-f143-58b8484c971d"
      },
      "outputs": [
        {
          "output_type": "execute_result",
          "data": {
            "text/plain": [
              "array([1, 2, 3])"
            ]
          },
          "metadata": {},
          "execution_count": 76
        }
      ],
      "source": [
        "# Instead, copy the tensor back to cpu\n",
        "tensor_back_on_cpu = tensor_on_gpu.cpu().numpy()\n",
        "tensor_back_on_cpu"
      ]
    },
    {
      "cell_type": "code",
      "execution_count": null,
      "metadata": {
        "colab": {
          "base_uri": "https://localhost:8080/"
        },
        "id": "S5u83PCRTGfH",
        "outputId": "982eea74-459b-4715-ba7e-324df3e1885e"
      },
      "outputs": [
        {
          "output_type": "execute_result",
          "data": {
            "text/plain": [
              "tensor([1, 2, 3])"
            ]
          },
          "metadata": {},
          "execution_count": 77
        }
      ],
      "source": [
        "tensor_on_gpu"
      ]
    },
    {
      "cell_type": "markdown",
      "source": [
        "Bagian [75] dan [76] menunjukkan cara memindahkan kembali tensor dari GPU ke CPU. Ini dapat dilakukan dengan menggunakan metode .to('cpu') atau .cpu(). Juga, cara lainnya adalah dengan mengonversi tensor menjadi array NumPy dengan .numpy()."
      ],
      "metadata": {
        "id": "7SiKAODIL93i"
      }
    }
  ],
  "metadata": {
    "accelerator": "GPU",
    "colab": {
      "provenance": []
    },
    "interpreter": {
      "hash": "3fbe1355223f7b2ffc113ba3ade6a2b520cadace5d5ec3e828c83ce02eb221bf"
    },
    "kernelspec": {
      "display_name": "Python 3 (ipykernel)",
      "language": "python",
      "name": "python3"
    },
    "language_info": {
      "codemirror_mode": {
        "name": "ipython",
        "version": 3
      },
      "file_extension": ".py",
      "mimetype": "text/x-python",
      "name": "python",
      "nbconvert_exporter": "python",
      "pygments_lexer": "ipython3",
      "version": "3.8.13"
    }
  },
  "nbformat": 4,
  "nbformat_minor": 0
}